{
 "cells": [
  {
   "cell_type": "markdown",
   "metadata": {},
   "source": [
    "# Import & data"
   ]
  },
  {
   "cell_type": "code",
   "execution_count": 2,
   "metadata": {},
   "outputs": [],
   "source": [
    "import arcpy, os\n",
    "import arcpy\n",
    "from osgeo import gdal\n",
    "\n",
    "arcpy.env.addOutputsToMap = False   # Prevents many small grid files to show on map\n",
    "arcpy.env.overwriteOutput = True"
   ]
  },
  {
   "cell_type": "code",
   "execution_count": 41,
   "metadata": {},
   "outputs": [],
   "source": [
    "# Directory option 1: Use project gdb\n",
    "# Directory option 2: use project directory\n",
    "# Directory option 3: Custom directory\n",
    "Dir = 2  # [1, 2 or 3] (Default is 1)\n",
    "\n",
    "if Dir == 1:\n",
    "    p = arcpy.mp.ArcGISProject(\"CURRENT\")\n",
    "    directory = p.defaultGeodatabase   \n",
    "elif Dir == 2:\n",
    "    directory = os.path.dirname( arcpy.mp.ArcGISProject(\"CURRENT\").filePath )\n",
    "elif Dir == 3:\n",
    "    directory = r\"H:\\DATA\\Service\\Wietse\\GIS\\DEM\"\n",
    "\n",
    "arcpy.env.workspace = directory"
   ]
  },
  {
   "cell_type": "code",
   "execution_count": 42,
   "metadata": {},
   "outputs": [],
   "source": [
    "Input_ArpPy = r\"H:\\Team_Kennis_OSA\\Hydraulische toetsing\\Basisbestanden Zomer\\Input_ArpPy\"\n",
    "arcpy.env.workspace = Input_ArpPy\n",
    "feature_classes = arcpy.ListFeatureClasses()\n",
    "\n",
    "#Import all symbiologies used in this project\n",
    "lyr_BUFF = os.path.join(Input_ArpPy, \"Afvoergebiedmask.lyr\")\n",
    "lyr_OPST = os.path.join(Input_ArpPy, \"Opstuwing kunstwerken.lyr\")\n",
    "lyr_SE = os.path.join(Input_ArpPy, \"Guess_start_end_with_pg_hydro_sobek_id.lyr\")\n",
    "lyr_WL = os.path.join(Input_ArpPy, \"waterniveau_stationaire_afvoer_sobek_droogleggingseis.lyr\")\n",
    "\n",
    "# Iterate through the list of feature classes\n",
    "for fc in feature_classes:\n",
    "    if \"Basis_Hydraulische_Toetsing_Hydro_PG_SOBEK_with_Dis_ZOMER\" in fc:\n",
    "    # Import the feature class\n",
    "        arcpy.FeatureClassToFeatureClass_conversion(fc, directory, str(fc))\n",
    "        lyr_DIS = os.path.join(Input_ArpPy, \"Basis_Hydraulische_Toetsing_Hydro_PG_SOBEK_with_Dis_ZOMER.lyr\")\n",
    "        arcpy.env.addOutputsToMap = True\n",
    "        arcpy.ApplySymbologyFromLayer_management(os.path.join(directory, str(fc)),lyr_DIS)\n",
    "        arcpy.env.addOutputsToMap = False\n",
    "    \n",
    "    else:\n",
    "        arcpy.FeatureClassToFeatureClass_conversion(fc, directory, str(fc))                                      \n",
    "    \n",
    "arcpy.env.workspace = directory"
   ]
  },
  {
   "cell_type": "code",
   "execution_count": 43,
   "metadata": {},
   "outputs": [],
   "source": [
    "def add_and_calculate_fields(fc, fields):\n",
    "    \"\"\"\n",
    "    A function that adds and calculates multiple fields in a feature class\n",
    "    \n",
    "    Parameters:\n",
    "    fc (str): The feature class to which the fields will be added\n",
    "    fields (list): A list of fields to be added. Each field should be a list with the following elements:\n",
    "                    [field_name, field_type, field_precision, field_scale, field_length, field_alias]\n",
    "    expressions (list): A list of expressions to calculate the fields with\n",
    "    \"\"\"\n",
    "    # Loop through the fields and add them\n",
    "    for field in fields:\n",
    "        arcpy.AddField_management(fc, field[0], field[1], field[2], field[3], field[4], field[5])\n"
   ]
  },
  {
   "cell_type": "markdown",
   "metadata": {},
   "source": [
    "# 1 Bepalen bodem voor stroomsnelheid"
   ]
  },
  {
   "cell_type": "code",
   "execution_count": 25,
   "metadata": {},
   "outputs": [],
   "source": [
    "#Import layers\n",
    "Input_Arcpy_Eenmalig = r\"H:\\Team_Kennis_OSA\\Hydraulische toetsing\\Basisbestanden Zomer\\Input_ArpPy\\Eenmalige_bestanden\"\n",
    "Bodemkaart_HDSR = os.path.join(Input_Arcpy_Eenmalig,\"Bodemkaart_HDSR.shp\")\n",
    "\n",
    "#-----------------\n",
    "arcpy.AddField_management(Bodemkaart_HDSR, \"vel_crit\", \"DOUBLE\")\n",
    "\n",
    "def calculate_value(field_value):\n",
    "    if \"Stedelijk\" in field_value or \"stedelijk\" in field_value:\n",
    "        return 0.3\n",
    "    elif \"Zand\" in field_value or \"zand\" in field_value:\n",
    "        return 0.3\n",
    "    elif \"Veen\" in field_value or \"veen\" in field_value:\n",
    "        return 0.3001\n",
    "    elif \"Klei\" in field_value or \"klei\" in field_value:\n",
    "        return 0.6\n",
    "    elif \"Zavel\" in field_value or \"zavel\" in field_value:\n",
    "        return 0.6\n",
    "    elif \"Water\" in field_value or \"water\" in field_value:\n",
    "        return 0.3\n",
    "    elif \"Moeras\" in field_value or \"moeras\" in field_value:\n",
    "        return 0.3001\n",
    "    elif \"Overig\" in field_value or \"overig\" in field_value:\n",
    "        return 0.3001\n",
    "    else:\n",
    "        return 0.9\n",
    "\n",
    "# Calculate the values of the calculation_field using the calculate_value function\n",
    "with arcpy.da.UpdateCursor(Bodemkaart_HDSR, [\"GRONDSOORT\", \"vel_crit\"]) as cursor:\n",
    "    for row in cursor:\n",
    "        row[1] = calculate_value(row[0])\n",
    "        cursor.updateRow(row)\n"
   ]
  },
  {
   "cell_type": "code",
   "execution_count": null,
   "metadata": {},
   "outputs": [],
   "source": [
    "def join_table_to_shapefile(input_shapefile, input_table, output_shapefile):\n",
    "    # Set join fields\n",
    "    join_field_shapefile = \"ID\"\n",
    "    join_field_table = \"LOCATION\"\n",
    "    fieldList = [\"ID\", \"LOCATION\", \"VALUE\"]\n",
    "    \n",
    "    NewFieldName = input_table.replace(\".DBF\",\"\")\n",
    "    # Save output shapefile\n",
    "    arcpy.CopyFeatures_management(input_shapefile, output_shapefile)\n",
    "\n",
    "    # Join table to shapefile\n",
    "    arcpy.JoinField_management(output_shapefile, join_field_shapefile, input_table, join_field_table, fieldList)\n",
    "    arcpy.AddField_management(output_shapefile, NewFieldName, \"DOUBLE\")\n",
    "    arcpy.CalculateField_management(output_shapefile, NewFieldName, \"!VALUE!\", \"PYTHON3\")\n",
    "\n",
    "    # Set fields to delete\n",
    "    fields_to_delete = [\"NAME\", \"TYPE\", \"PARENTID\", \"USERID\",\"ID_FROM\", \"ID_TO\",\"VALUE\"]\n",
    "\n",
    "    # Delete fields from shapefile\n",
    "    arcpy.DeleteField_management(output_shapefile, fields_to_delete)\n"
   ]
  },
  {
   "cell_type": "code",
   "execution_count": 26,
   "metadata": {},
   "outputs": [
    {
     "data": {
      "text/html": [
       "<div class='gpresult'><h2>Messages</h2><div id='messages' data-messages='[\"Start Time: Thursday, March 16, 2023 11:38:28 AM\",\"WARNING 000728: Field NAME does not exist within table\",\"WARNING 000728: Field TYPE does not exist within table\",\"WARNING 000728: Field PARENTID does not exist within table\",\"WARNING 000728: Field USERID does not exist within table\",\"WARNING 000728: Field ID_FROM does not exist within table\",\"WARNING 000728: Field ID_TO does not exist within table\",\"Succeeded at Thursday, March 16, 2023 11:38:28 AM (Elapsed Time: 0,27 seconds)\"]' data-show='true'><div id = 'default' /></div></div>"
      ],
      "text/plain": [
       "<Result 'H:\\\\Team_Kennis_OSA\\\\Hydraulische toetsing\\\\Basisbestanden Zomer\\\\Input_ArpPy\\\\Eenmalige_bestanden\\\\sobek_reach_dis.shp'>"
      ]
     },
     "execution_count": 26,
     "metadata": {},
     "output_type": "execute_result"
    }
   ],
   "source": [
    "# Set input shapefile and table\n",
    "input_shapefile = os.path.join(Input_Arcpy_Eenmalig,\"RchSegments.shp\")\n",
    "input_table = os.path.join(Input_Arcpy_Eenmalig,\"DIS.DBF\")\n",
    "\n",
    "##%----------------------------------------------------\n",
    "\n",
    "# Set join fields\n",
    "join_field_shapefile = \"ID\"\n",
    "join_field_table = \"LOCATION\"\n",
    "fieldList = [\"ID\", \"LOCATION\", \"VALUE\"]\n",
    "\n",
    "\n",
    "# Set output shapefile\n",
    "sobek_reach_dis =  os.path.join(Input_Arcpy_Eenmalig,\"sobek_reach_dis.shp\")\n",
    "\n",
    "# Save output shapefile\n",
    "arcpy.CopyFeatures_management(input_shapefile, sobek_reach_dis)\n",
    "\n",
    "# Join table to shapefile\n",
    "arcpy.JoinField_management(sobek_reach_dis, join_field_shapefile, input_table, join_field_table, fieldList)\n",
    "arcpy.AddField_management(sobek_reach_dis, \"DIS\", \"DOUBLE\")\n",
    "arcpy.CalculateField_management(sobek_reach_dis, \"DIS\", \"!VALUE!\", \"PYTHON3\")\n",
    "\n",
    "# Set fields to delete\n",
    "fields_to_delete = [\"NAME\", \"TYPE\", \"PARENTID\", \"USERID\",\"ID_FROM\", \"ID_TO\",\"VALUE\"]\n",
    "\n",
    "# Delete fields from shapefile\n",
    "arcpy.DeleteField_management(sobek_reach_dis, fields_to_delete)\n"
   ]
  },
  {
   "cell_type": "code",
   "execution_count": 27,
   "metadata": {},
   "outputs": [
    {
     "name": "stdout",
     "output_type": "stream",
     "text": [
      "Spatial join of polygons and lines is complete!\n"
     ]
    }
   ],
   "source": [
    "# Set output line layer\n",
    "sobek_reach_dis_Vcrit = os.path.join(Input_Arcpy_Eenmalig, \"sobek_reach_dis_Vcrit.shp\")\n",
    "\n",
    "# Set join type and match option\n",
    "join_type = \"JOIN_ONE_TO_MANY\"\n",
    "match_option = \"INTERSECT\"\n",
    "\n",
    "# Set field mapping\n",
    "field_mappings = arcpy.FieldMappings()\n",
    "field_mappings.addTable(sobek_reach_dis)\n",
    "field_mappings.addTable(Bodemkaart_HDSR)\n",
    "\n",
    "# Perform spatial join\n",
    "arcpy.SpatialJoin_analysis(sobek_reach_dis, Bodemkaart_HDSR, sobek_reach_dis_Vcrit, join_type, \"KEEP_ALL\", field_mappings, match_option)\n",
    "\n",
    "fields_to_delete = [\"Join_Count\", \"TARGET_FID\", \"JOIN_FID\", \"OBJECTID_1\", \"OBJECTID\", \"BODEMTYPE\", \"GRONDSOORT\", \"SUBGROEP\", \"OPBOUW\", \"KALK\", \"PROFIEL\", \"SHAPE_AREA\", \"SHAPE_LEN\"]\n",
    "\n",
    "\n",
    "# Delete fields from shapefile\n",
    "arcpy.DeleteField_management(sobek_reach_dis_Vcrit, fields_to_delete)\n",
    "\n",
    "# Print message when spatial join is complete\n",
    "print(\"Spatial join of polygons and lines is complete!\")\n"
   ]
  },
  {
   "cell_type": "code",
   "execution_count": null,
   "metadata": {},
   "outputs": [],
   "source": []
  },
  {
   "cell_type": "code",
   "execution_count": 12,
   "metadata": {},
   "outputs": [
    {
     "ename": "ValueError",
     "evalue": "FieldMappings: AddFieldMap input not field map object",
     "output_type": "error",
     "traceback": [
      "\u001b[0;31m---------------------------------------------------------------------------\u001b[0m\n\u001b[0;31mValueError\u001b[0m                                Traceback (most recent call last)",
      "In  \u001b[0;34m[12]\u001b[0m:\nLine \u001b[0;34m21\u001b[0m:    fieldMappings.addFieldMap(fieldMappings.findFieldMapIndex(joinField1))\n",
      "File \u001b[0;34mC:\\Program Files\\ArcGIS\\Pro\\Resources\\ArcPy\\arcpy\\arcobjects\\arcobjects.py\u001b[0m, in \u001b[0;32maddFieldMap\u001b[0m:\nLine \u001b[0;34m805\u001b[0m:   \u001b[34mreturn\u001b[39;49;00m convertArcObjectToPythonObject(\u001b[36mself\u001b[39;49;00m._arc_object.AddFieldMap(*gp_fixargs(args)))\n",
      "\u001b[0;31mValueError\u001b[0m: FieldMappings: AddFieldMap input not field map object\n\u001b[0;31m---------------------------------------------------------------------------\u001b[0m"
     ]
    }
   ],
   "source": [
    "import os\n",
    "import arcpy\n",
    "\n",
    "# Define input layer and table\n",
    "layer = os.path.join(Input_Arcpy_Eenmalig,\"RchSegments.shp\")\n",
    "table = os.path.join(Input_Arcpy_Eenmalig,\"DIS.DBF\")\n",
    "\n",
    "# Define join fields\n",
    "joinField1 = \"ID\"\n",
    "joinField2 = \"Bodemkaart_HDSR\"\n",
    "\n",
    "# Define output shapefile\n",
    "outputShapefile = \"sobek_reach_dis.shp\"\n",
    "\n",
    "# Perform join\n",
    "arcpy.JoinField_management(layer, joinField1, table, joinField2)\n",
    "\n",
    "# Define field mappings to only keep selected fields and rename one field\n",
    "fieldMappings = arcpy.FieldMappings()\n",
    "fieldMappings.addTable(layer)\n",
    "fieldMappings.addFieldMap(fieldMappings.findFieldMapIndex(joinField1))\n",
    "fieldMappings.addFieldMap(fieldMappings.findFieldMapIndex(joinField2))\n",
    "keepFields = [\"VALUE\", \"ID\", \"LOCATION\"]\n",
    "for field in fieldMappings.fields:\n",
    "    if field.name == \"VALUE\":\n",
    "        field.aliasName = \"DIS\"\n",
    "    elif field.name not in keepFields:\n",
    "        fieldMappings.removeFieldMap(fieldMappings.findFieldMapIndex(field.name))\n",
    "\n",
    "# Copy features and save as new shapefile\n",
    "arcpy.CopyFeatures_management(layer, outputShapefile, \"\", \"\", fieldMappings)\n",
    "\n"
   ]
  },
  {
   "cell_type": "code",
   "execution_count": 61,
   "metadata": {},
   "outputs": [],
   "source": [
    "SOBEK_Reach_segmnents_Discharge = os.path.join(Input_Arcpy_Eenmalig,\"Bodemkaart_HDSR.shp\")\n",
    "\n",
    "# Process: Spatial Join\n",
    "arcpy.SpatialJoin_analysis(SOBEK_Reach_segmnents_Discharge, Bodemkaart_HDSR, \"test.shp\")"
   ]
  },
  {
   "cell_type": "code",
   "execution_count": null,
   "metadata": {},
   "outputs": [],
   "source": []
  },
  {
   "cell_type": "markdown",
   "metadata": {},
   "source": [
    "# 2A Drooglegging bepalen (eenmalig)\n",
    "- jjkk"
   ]
  },
  {
   "cell_type": "code",
   "execution_count": null,
   "metadata": {},
   "outputs": [],
   "source": [
    "import arcpy\n",
    "\n",
    "\n",
    "# Local variables:\n",
    "Afwateringseenheden_2020_05_13 = \"Afwateringseenheden_2020_05_13\"\n",
    "Afwateringseenheden_2020_05_13__2_ = Afwateringseenheden_2020_05_13\n",
    "\n",
    "\n",
    "\n",
    "# Process: Zonal Statistics as Table\n",
    "arcpy.gp.ZonalStatisticsAsTable_sa(Afwateringseenheden_2020_05_13, \"CODE\", AHN_buffer_mm_int, drooglegging_per_afwateringseenheid, \"DATA\", \"MEDIAN\")\n",
    "\n",
    "# Process: Add Field\n",
    "arcpy.AddField_management(drooglegging_per_afwateringseenheid, \"dl_msl\", \"DOUBLE\", \"\", \"\", \"\", \"\", \"NULLABLE\", \"NON_REQUIRED\", \"\")\n",
    "\n",
    "# Process: Calculate Field\n",
    "arcpy.CalculateField_management(drooglegging_per_afwateringseenheid__2_, \"dl_msl\", \"[MEDIAN] / 1000\", \"VB\", \"\")\n",
    "\n",
    "# Process: Add Join\n",
    "arcpy.AddJoin_management(Afwateringseenheden_2020_05_13, \"CODE\", drooglegging_per_afwateringseenheid__3_, \"CODE\", \"KEEP_ALL\")"
   ]
  },
  {
   "cell_type": "markdown",
   "metadata": {
    "heading_collapsed": true
   },
   "source": [
    "# 2B Droogleggingseis toetsen per punt (eenmalig)"
   ]
  },
  {
   "cell_type": "code",
   "execution_count": null,
   "metadata": {
    "hidden": true
   },
   "outputs": [],
   "source": []
  },
  {
   "cell_type": "code",
   "execution_count": null,
   "metadata": {
    "hidden": true
   },
   "outputs": [],
   "source": [
    "# Local variables:\n",
    "\n",
    "# Process: Spatial Join\n",
    "arcpy.SpatialJoin_analysis(waterniveau_stationaire_afvoer_sobek_droogleggingseis_20210922, v20210311_afwateringseenheden_drooglegging, waterniveau_stationaire_afvoer_sobek_droogleggingseis_2021109_shp, \"JOIN_ONE_TO_ONE\", \"KEEP_ALL\", \"FID_1 \\\"FID_1\\\" true true false 9 Long 0 9 ,First,#,waterniveau_stationaire_afvoer_sobek_droogleggingseis_20210922,FID_1,-1,-1;ID \\\"ID\\\" true true false 18 Text 0 0 ,First,#,waterniveau_stationaire_afvoer_sobek_droogleggingseis_20210922,ID,-1,-1;NAME \\\"NAME\\\" true true false 32 Text 0 0 ,First,#,waterniveau_stationaire_afvoer_sobek_droogleggingseis_20210922,NAME,-1,-1;TYPE \\\"TYPE\\\" true true false 52 Text 0 0 ,First,#,waterniveau_stationaire_afvoer_sobek_droogleggingseis_20210922,TYPE,-1,-1;Field1 \\\"Field1\\\" true true false 254 Text 0 0 ,First,#,waterniveau_stationaire_afvoer_sobek_droogleggingseis_20210922,Field1,-1,-1;SOBEK_Hist \\\"SOBEK_Hist\\\" true true false 254 Text 0 0 ,First,#,waterniveau_stationaire_afvoer_sobek_droogleggingseis_20210922,SOBEK_Hist,-1,-1;waterlevel \\\"waterlevel\\\" true true false 13 Float 0 0 ,First,#,waterniveau_stationaire_afvoer_sobek_droogleggingseis_20210922,waterlevel,-1,-1;FID_2 \\\"FID_2\\\" true true false 9 Long 0 9 ,First,#,waterniveau_stationaire_afvoer_sobek_droogleggingseis_20210922,FID_2,-1,-1;CODE \\\"CODE\\\" true true false 24 Text 0 0 ,First,#,waterniveau_stationaire_afvoer_sobek_droogleggingseis_20210922,CODE,-1,-1;NAAM \\\"NAAM\\\" true true false 50 Text 0 0 ,First,#,waterniveau_stationaire_afvoer_sobek_droogleggingseis_20210922,NAAM,-1,-1;OSMOMSCH \\\"OSMOMSCH\\\" true true false 60 Text 0 0 ,First,#,waterniveau_stationaire_afvoer_sobek_droogleggingseis_20210922,OSMOMSCH,-1,-1;ONDPEILGEB \\\"ONDPEILGEB\\\" true true false 24 Text 0 0 ,First,#,waterniveau_stationaire_afvoer_sobek_droogleggingseis_20210922,ONDPEILGEB,-1,-1;AFWATERING \\\"AFWATERING\\\" true true false 24 Text 0 0 ,First,#,waterniveau_stationaire_afvoer_sobek_droogleggingseis_20210922,AFWATERING,-1,-1;ONDAFVOGEB \\\"ONDAFVOGEB\\\" true true false 24 Text 0 0 ,First,#,waterniveau_stationaire_afvoer_sobek_droogleggingseis_20210922,ONDAFVOGEB,-1,-1;OPPVLK \\\"OPPVLK\\\" true true false 19 Double 8 18 ,First,#,waterniveau_stationaire_afvoer_sobek_droogleggingseis_20210922,OPPVLK,-1,-1;VASTPEIL_1 \\\"VASTPEIL_1\\\" true true false 254 Text 0 0 ,First,#,waterniveau_stationaire_afvoer_sobek_droogleggingseis_20210922,VASTPEIL_1,-1,-1;WINTERPE_1 \\\"WINTERPE_1\\\" true true false 254 Text 0 0 ,First,#,waterniveau_stationaire_afvoer_sobek_droogleggingseis_20210922,WINTERPE_1,-1,-1;ZOMERPEI_1 \\\"ZOMERPEI_1\\\" true true false 254 Text 0 0 ,First,#,waterniveau_stationaire_afvoer_sobek_droogleggingseis_20210922,ZOMERPEI_1,-1,-1;BOVENPEI_1 \\\"BOVENPEI_1\\\" true true false 254 Text 0 0 ,First,#,waterniveau_stationaire_afvoer_sobek_droogleggingseis_20210922,BOVENPEI_1,-1,-1;ONDERPEI_1 \\\"ONDERPEI_1\\\" true true false 254 Text 0 0 ,First,#,waterniveau_stationaire_afvoer_sobek_droogleggingseis_20210922,ONDERPEI_1,-1,-1;DEF_W_PEIL \\\"DEF_W_PEIL\\\" true true false 16 Double 6 15 ,First,#,waterniveau_stationaire_afvoer_sobek_droogleggingseis_20210922,DEF_W_PEIL,-1,-1;DEF_Z_PEIL \\\"DEF_Z_PEIL\\\" true true false 16 Double 6 15 ,First,#,waterniveau_stationaire_afvoer_sobek_droogleggingseis_20210922,DEF_Z_PEIL,-1,-1;CODE_1 \\\"CODE_1\\\" true true false 50 Text 0 0 ,First,#,20210311_afwateringseenheden_drooglegging,CODE,-1,-1;NAAM_1 \\\"NAAM_1\\\" true true false 250 Text 0 0 ,First,#,20210311_afwateringseenheden_drooglegging,NAAM,-1,-1;COUNT \\\"COUNT\\\" true true false 10 Long 0 10 ,First,#,20210311_afwateringseenheden_drooglegging,COUNT,-1,-1;AREA \\\"AREA\\\" true true false 19 Double 0 0 ,First,#,20210311_afwateringseenheden_drooglegging,AREA,-1,-1;MEDIAN \\\"MEDIAN\\\" true true false 10 Long 0 10 ,First,#,20210311_afwateringseenheden_drooglegging,MEDIAN,-1,-1;dl_msl \\\"dl_msl\\\" true true false 19 Double 0 0 ,First,#,20210311_afwateringseenheden_drooglegging,dl_msl,-1,-1;dl_abs \\\"dl_abs\\\" true true false 19 Double 0 0 ,First,#,20210311_afwateringseenheden_drooglegging,dl_abs,-1,-1;awlr_abs_w \\\"awlr_abs_w\\\" true true false 19 Double 0 0 ,First,#,20210311_afwateringseenheden_drooglegging,awlr_abs_w,-1,-1\", \"WITHIN\", \"0 Meters\", \"\")\n",
    "\n",
    "# Define the feature class\n",
    "fc_2A = \"example_fc\"\n",
    "\n",
    "# Define the field names and properties\n",
    "fields_2A = [[\"awlr_msl\", \"FLOAT\", \"\", \"\", \"\", \"\", \"NULLABLE\", \"NON_REQUIRED\"],\n",
    "          [\"ruimte_ver\", \"FLOAT\", \"\", \"\", \"\", \"\", \"NULLABLE\", \"NON_REQUIRED\"]]\n",
    "\n",
    "\n",
    "\n",
    "# Define the expressions for calculating the fields\n",
    "expressions = [\"awlr_msl + 1\", \"!Field2! * 2\", \"'Text'\"]\n",
    "\n",
    "# Call the function to add and calculate the fields\n",
    "add_and_calculate_fields(fc, fields, expressions)\n",
    "\n",
    "add_fields(fc_2A, fields_2A)\n",
    "\n",
    "# Process: Calculate Field\n",
    "arcpy.CalculateField_management(waterniveau_stationaire_afvoer_sobek_droogleggingseis_2021109_shp, \"dl_abs\", \"[dl_msl] - [DEF_Z_PEIL]\", \"VB\", \"\")\n",
    "\n",
    "# Process: Calculate Field (2)\n",
    "arcpy.CalculateField_management(waterniveau_stationaire_afvoer_sobek_droogleggingseis_2021109_shp__5_, \"awlr_abs_z\", \"[dl_abs] / 2\", \"VB\", \"\")\n",
    "\n",
    "# Process: Calculate Field (4)\n",
    "arcpy.CalculateField_management(waterniveau_stationaire_afvoer_sobek_droogleggingseis_2021109_shp__3_, \"awlr_msl\", \"[DEF_Z_PEIL] + [awlr_abs_z]\", \"VB\", \"\")\n",
    "\n",
    "# Process: Calculate Field (3)\n",
    "arcpy.CalculateField_management(waterniveau_stationaire_afvoer_sobek_droogleggingseis_2021109_shp__8_, \"ruimte_ver\", \"[awlr_msl] - [waterlevel]\", \"VB\", \"\")\n",
    "\n"
   ]
  },
  {
   "cell_type": "code",
   "execution_count": null,
   "metadata": {
    "hidden": true
   },
   "outputs": [],
   "source": [
    "directory"
   ]
  },
  {
   "cell_type": "markdown",
   "metadata": {},
   "source": [
    "# 1 Bepalen bodem voor stroomsnelheid"
   ]
  },
  {
   "cell_type": "markdown",
   "metadata": {},
   "source": [
    "# 3A Exporteren data per afvoergebied"
   ]
  },
  {
   "cell_type": "code",
   "execution_count": null,
   "metadata": {},
   "outputs": [],
   "source": [
    "# Define the string attribute value to select\n",
    "Afvoergebied = \"Zegveld\"\n",
    "\n",
    "\n",
    "#-----------------------------------------------------------------------------------------------------------------------------------------\n",
    "arcpy.env.addOutputsToMap = False\n",
    "selection = str(\"\"\" \"NAAM\" = '\"\"\" + Afvoergebied + \"'\")\n",
    "# Set the input shapefile\n",
    "input_shapefile = os.path.join(directory, \"BR_Afvoergebieden.shp\")\n",
    "\n",
    "# Create a feature layer from the input shapefile\n",
    "arcpy.MakeFeatureLayer_management(input_shapefile, \"input_shapefile_layer\")\n",
    "\n",
    "# Select features based on the string attribute\n",
    "arcpy.SelectLayerByAttribute_management(\"input_shapefile_layer\", \"NEW_SELECTION\", selection)\n",
    "\n",
    "# Save the selected features to a new feature class\n",
    "arcpy.CopyFeatures_management(\"input_shapefile_layer\", directory + \"/Afvoergebied_\"+ Afvoergebied + \".shp\")\n",
    "\n",
    "# Set the condition for the shapefiles to be added to the list\n",
    "conditions = [\"Bridges_Culverts_Head\", \"Guess_start_end\", \"waterniveau_stationaire_afvoer\"]\n",
    "conditions_rec = conditions\n",
    "# Create an empty list to store the shapefiles\n",
    "shapefiles_list = []\n",
    "\n",
    "# Loop through the shapefiles in the workspace\n",
    "for shapefile in arcpy.ListFeatureClasses(feature_type=\"Point\"):\n",
    "    for condition in conditions:\n",
    "        if condition in shapefile:\n",
    "            shapefiles_list.append(os.path.join(directory, shapefile))\n",
    "            break\n",
    "\n",
    "# Set the input polygon shapefile\n",
    "clip = \"Afvoergebied_\" + Afvoergebied + \".shp\"\n",
    "\n",
    "# Run the Buffer_analysis function\n",
    "arcpy.Buffer_analysis(directory + \"/Afvoergebied_\"+ Afvoergebied + \".shp\", directory + \"buffer_\" + Afvoergebied + \".shp\", 500, line_side = \"OUTSIDE_ONLY\")\n",
    "\n",
    "# Loop through the input shapefiles and clip them with the polygon shapefile\n",
    "for shapefiles_list, conditions in zip(shapefiles_list, conditions):\n",
    "    output_shapefile = os.path.join(directory, conditions + \"_\" +Afvoergebied +  \".shp\")\n",
    "    arcpy.Clip_analysis(shapefiles_list, os.path.join(directory, clip), output_shapefile)\n",
    "\n",
    "    \n",
    "arcpy.env.addOutputsToMap = True\n",
    "\n",
    "arcpy.ApplySymbologyFromLayer_management(directory + \"buffer_\" + Afvoergebied + \".shp\",lyr_BUFF)\n",
    "arcpy.ApplySymbologyFromLayer_management(os.path.join(directory, conditions_rec[0] + \"_\" + Afvoergebied),lyr_OPST)\n",
    "arcpy.ApplySymbologyFromLayer_management(os.path.join(directory, conditions_rec[1] + \"_\" + Afvoergebied),lyr_SE)\n",
    "arcpy.ApplySymbologyFromLayer_management(os.path.join(directory, conditions_rec[2] + \"_\" + Afvoergebied),lyr_WL)\n",
    "\n",
    "selection_start = str(\"\"\" \"direction\" = '\"\"\" + \"start\" + \"'\")\n",
    "selection_end = str(\"\"\" \"direction\" = '\"\"\" + \"end\" + \"'\")\n",
    "\n",
    "arcpy.env.addOutputsToMap = False\n",
    "arcpy.SelectLayerByAttribute_management(os.path.join(directory, conditions_rec[1] + \"_\" + Afvoergebied), \"NEW_SELECTION\", selection_start)\n",
    "arcpy.CopyFeatures_management(os.path.join(directory, conditions_rec[1] + \"_\" + Afvoergebied), directory + \"/Start_\"+ Afvoergebied + \".shp\")\n",
    "\n",
    "arcpy.SelectLayerByAttribute_management(os.path.join(directory, conditions_rec[1] + \"_\" + Afvoergebied), \"NEW_SELECTION\", selection_end)\n",
    "arcpy.CopyFeatures_management(os.path.join(directory, conditions_rec[1] + \"_\" + Afvoergebied), directory + \"/End_\"+ Afvoergebied + \".shp\")\n",
    "\n",
    "arcpy.env.addOutputsToMap = True\n",
    "arcpy.ApplySymbologyFromLayer_management(directory + \"/Start_\"+ Afvoergebied + \".shp\",lyr_SE)\n",
    "arcpy.ApplySymbologyFromLayer_management(directory + \"/End_\"+ Afvoergebied + \".shp\",lyr_SE)\n",
    "\n"
   ]
  },
  {
   "cell_type": "code",
   "execution_count": null,
   "metadata": {},
   "outputs": [],
   "source": []
  },
  {
   "cell_type": "code",
   "execution_count": null,
   "metadata": {},
   "outputs": [],
   "source": [
    "network = os.path.join(directory,\"Basis_Hydraulische_Toetsing_Hydro_PG_SOBEK_with_Dis_ZOMER.shp\")\n",
    "start_points = directory + \"/Start_\"+ Afvoergebied + \".shp\"\n",
    "end_points =   directory + \"/End_\"+ Afvoergebied + \".shp\"\n",
    "output_route_layer = directory + \"/Routes_\"+ Afvoergebied + \".shp\"\n",
    "\n",
    "# Create a route layer\n",
    "arcpy.na.MakeRouteLayer(network, output_route_layer)\n",
    "\n",
    "# Add start and end points as stops to the route layer\n",
    "arcpy.na.AddLocations(output_route_layer, \"Stops\", start_points)\n",
    "arcpy.na.AddLocations(output_route_layer, \"Stops\", end_points)\n",
    "\n",
    "# Solve the route layer to calculate the route between start and end points\n",
    "arcpy.na.Solve(output_route_layer)"
   ]
  },
  {
   "cell_type": "markdown",
   "metadata": {},
   "source": [
    "# 3B Filter relevante routes per afvoergebied"
   ]
  },
  {
   "cell_type": "code",
   "execution_count": null,
   "metadata": {},
   "outputs": [],
   "source": [
    "arcpy.Save"
   ]
  },
  {
   "cell_type": "code",
   "execution_count": null,
   "metadata": {},
   "outputs": [],
   "source": [
    "# Script arguments\n",
    "Peilgebieden = arcpy.GetParameterAsText(0)\n",
    "if Peilgebieden == '#' or not Peilgebieden:\n",
    "    Peilgebieden = \"Achtergrondlagen\\\\BR Peilgebieden\" # provide a default value if unspecified\n",
    "\n",
    "Sifon = arcpy.GetParameterAsText(1)\n",
    "if Sifon == '#' or not Sifon:\n",
    "    Sifon = \"Sifon_Bijleveld\" # provide a default value if unspecified\n",
    "\n",
    "Routes_joined_to_starts = arcpy.GetParameterAsText(2)\n",
    "if Routes_joined_to_starts == '#' or not Routes_joined_to_starts:\n",
    "    Routes_joined_to_starts = \"Export_Output\" # provide a default value if unspecified\n",
    "\n",
    "Afvoergebied = arcpy.GetParameterAsText(3)\n",
    "if Afvoergebied == '#' or not Afvoergebied:\n",
    "    Afvoergebied = \"Afvoergebied_Bijlenveld\" # provide a default value if unspecified\n",
    "\n",
    "OD_Matrix_join_select = arcpy.GetParameterAsText(4)\n",
    "if OD_Matrix_join_select == '#' or not OD_Matrix_join_select:\n",
    "    OD_Matrix_join_select = \"Export_Output\" # provide a default value if unspecified\n",
    "\n",
    "# Local variables:\n",
    "Join_Output_2 = Routes_joined_to_starts\n",
    "Join_Output_3 = Join_Output_2\n",
    "Join_Output_3__2_ = Join_Output_3\n",
    "Join_Output_3__5_ = Join_Output_3__2_\n",
    "Join_Output_3__3_ = Join_Output_3__5_\n",
    "\n",
    "# Process: Select Layer By Attribute\n",
    "arcpy.SelectLayerByAttribute_management(Routes_joined_to_starts, \"NEW_SELECTION\", \"Count_ >=4\")\n",
    "\n",
    "# Process: Select Layer By Location (3)\n",
    "arcpy.SelectLayerByLocation_management(Join_Output_2, \"WITHIN\", Afvoergebied, \"0 Meters\", \"ADD_TO_SELECTION\", \"INVERT\")\n",
    "\n",
    "# Process: Delete Features\n",
    "arcpy.DeleteFeatures_management(Join_Output_3)\n",
    "\n",
    "# Process: Select Layer By Location\n",
    "arcpy.SelectLayerByLocation_management(Join_Output_3__2_, \"WITHIN\", Peilgebieden, \"\", \"NEW_SELECTION\", \"INVERT\")\n",
    "\n",
    "# Process: Select Layer By Location (2)\n",
    "arcpy.SelectLayerByLocation_management(Join_Output_3__5_, \"INTERSECT\", Sifon, \"1 Meters\", \"REMOVE_FROM_SELECTION\", \"NOT_INVERT\")\n",
    "\n",
    "# Process: Delete Features (2)\n",
    "arcpy.DeleteFeatures_management(Join_Output_3__3_)\n",
    "\n",
    "\n"
   ]
  },
  {
   "cell_type": "code",
   "execution_count": null,
   "metadata": {},
   "outputs": [],
   "source": []
  }
 ],
 "metadata": {
  "kernelspec": {
   "display_name": "ArcGISPro",
   "language": "Python",
   "name": "python3"
  },
  "language_info": {
   "file_extension": ".py",
   "name": "python",
   "version": "3"
  }
 },
 "nbformat": 4,
 "nbformat_minor": 2
}
