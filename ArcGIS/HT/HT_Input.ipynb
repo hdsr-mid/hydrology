{
 "cells": [
  {
   "cell_type": "code",
   "execution_count": 5,
   "metadata": {},
   "outputs": [],
   "source": [
    "import arcpy, os\n",
    "import arcpy\n",
    "from osgeo import gdal\n",
    "\n",
    "arcpy.env.addOutputsToMap = False   # Prevents many small grid files to show on map\n",
    "arcpy.env.overwriteOutput = True"
   ]
  },
  {
   "cell_type": "code",
   "execution_count": 6,
   "metadata": {},
   "outputs": [],
   "source": [
    "# Directory option 1: Use project gdb\n",
    "# Directory option 2: use project directory\n",
    "# Directory option 3: Custom directory\n",
    "Dir = 2  # [1, 2 or 3] (Default is 1)\n",
    "\n",
    "if Dir == 1:\n",
    "    p = arcpy.mp.ArcGISProject(\"CURRENT\")\n",
    "    directory = p.defaultGeodatabase   \n",
    "elif Dir == 2:\n",
    "    directory = os.path.dirname( arcpy.mp.ArcGISProject(\"CURRENT\").filePath )\n",
    "elif Dir == 3:\n",
    "    directory = r\"H:\\DATA\\Service\\Wietse\\GIS\\DEM\"\n",
    "\n",
    "arcpy.env.workspace = directory"
   ]
  },
  {
   "cell_type": "markdown",
   "metadata": {},
   "source": [
    "# Inladen bestanden"
   ]
  },
  {
   "cell_type": "code",
   "execution_count": 7,
   "metadata": {},
   "outputs": [],
   "source": [
    "Input_Arcpy_Eenmalig = r\"H:\\Team_Kennis_OSA\\Hydraulische toetsing\\Basisbestanden Zomer\\Input_ArpPy\\Eenmalige_bestanden\"\n",
    "Bodemkaart_HDSR = os.path.join(Input_Arcpy_Eenmalig,\"Bodemkaart_HDSR.shp\")"
   ]
  },
  {
   "cell_type": "code",
   "execution_count": null,
   "metadata": {},
   "outputs": [],
   "source": []
  },
  {
   "cell_type": "markdown",
   "metadata": {},
   "source": [
    "# Bepalen boden voor stroomsnelheid"
   ]
  },
  {
   "cell_type": "code",
   "execution_count": 9,
   "metadata": {},
   "outputs": [],
   "source": [
    "arcpy.AddField_management(Bodemkaart_HDSR, \"vel_crit\", \"DOUBLE\")\n",
    "\n",
    "def calculate_value(field_value):\n",
    "    if \"Stedelijk\" in field_value or \"stedelijk\" in field_value:\n",
    "        return 0.3\n",
    "    elif \"Zand\" in field_value or \"zand\" in field_value:\n",
    "        return 0.3\n",
    "    elif \"Veen\" in field_value or \"veen\" in field_value:\n",
    "        return 0.3001\n",
    "    elif \"Klei\" in field_value or \"klei\" in field_value:\n",
    "        return 0.6\n",
    "    elif \"Zavel\" in field_value or \"zavel\" in field_value:\n",
    "        return 0.6\n",
    "    elif \"Water\" in field_value or \"water\" in field_value:\n",
    "        return 0.3\n",
    "    elif \"Moeras\" in field_value or \"moeras\" in field_value:\n",
    "        return 0.3001\n",
    "    elif \"Overig\" in field_value or \"overig\" in field_value:\n",
    "        return 0.3001\n",
    "    else:\n",
    "        return 0.9\n",
    "\n",
    "# Calculate the values of the calculation_field using the calculate_value function\n",
    "with arcpy.da.UpdateCursor(Bodemkaart_HDSR, [\"GRONDSOORT\", \"vel_crit\"]) as cursor:\n",
    "    for row in cursor:\n",
    "        row[1] = calculate_value(row[0])\n",
    "        cursor.updateRow(row)\n"
   ]
  },
  {
   "cell_type": "code",
   "execution_count": null,
   "metadata": {},
   "outputs": [],
   "source": [
    "def perform_spatial_join(input_features, join_features, output_features):\n",
    "    field_mappings = arcpy.FieldMappings()\n",
    "    field_mappings.addTable(input_features)\n",
    "    field_mappings.addTable(join_features)\n",
    "\n",
    "    output_fields = [\"ID\", \"hydro_segm\", \"pg_code\", \"Value\", \"dir_et\", \"LENGTE\", \"vel_crit\"]\n",
    "\n",
    "    for field in field_mappings.fields:\n",
    "        if field.name not in output_fields:\n",
    "            field_mappings.removeFieldMap(field_mappings.findFieldMapIndex(field.name))\n",
    "\n",
    "    arcpy.SpatialJoin_analysis(\n",
    "        target_features=input_features,\n",
    "        join_features=join_features,\n",
    "        out_feature_class=output_features,\n",
    "        join_operation=\"JOIN_ONE_TO_ONE\",\n",
    "        join_type=\"KEEP_ALL\",\n",
    "        field_mapping=field_mappings,\n",
    "        match_option=\"INTERSECT\",\n",
    "        search_radius=\"0 Meters\"\n",
    "    )\n",
    "\n",
    "# Example usage:\n",
    "input_features = \"SOBEK_ReachSegments_Join_PG_Hydro_Line_20210819_Discharge_Length\"\n",
    "output_features = \"SOBEK_ReachSegments_Join_PG_Hydro_Line_20210819_Discharge_Length_Soil_shp\"\n",
    "\n",
    "perform_spatial_join(input_features, Bodemkaart_HDSR, output_features)\n"
   ]
  },
  {
   "cell_type": "markdown",
   "metadata": {},
   "source": [
    "# Drooglegging bepalen"
   ]
  },
  {
   "cell_type": "markdown",
   "metadata": {},
   "source": [
    "# Droogleggingseis toetsen per punt"
   ]
  },
  {
   "cell_type": "markdown",
   "metadata": {},
   "source": [
    "# Exporteer Sobek resultaten naar kunstwerk punten"
   ]
  },
  {
   "cell_type": "code",
   "execution_count": null,
   "metadata": {},
   "outputs": [],
   "source": []
  }
 ],
 "metadata": {
  "kernelspec": {
   "display_name": "ArcGISPro",
   "language": "Python",
   "name": "python3"
  },
  "language_info": {
   "file_extension": ".py",
   "name": "python",
   "version": "3"
  }
 },
 "nbformat": 4,
 "nbformat_minor": 2
}
