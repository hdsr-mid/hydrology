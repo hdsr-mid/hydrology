{
 "cells": [
  {
   "cell_type": "code",
   "execution_count": 1,
   "metadata": {},
   "outputs": [],
   "source": [
    "import arcpy, os\n",
    "import arcpy\n",
    "from osgeo import gdal\n",
    "\n",
    "arcpy.env.addOutputsToMap = False   # Prevents many small grid files to show on map\n",
    "arcpy.env.overwriteOutput = True"
   ]
  },
  {
   "cell_type": "code",
   "execution_count": 2,
   "metadata": {},
   "outputs": [],
   "source": [
    "# Directory option 1: Use project gdb\n",
    "# Directory option 2: use project directory\n",
    "# Directory option 3: Custom directory\n",
    "Dir = 2  # [1, 2 or 3] (Default is 1)\n",
    "\n",
    "if Dir == 1:\n",
    "    p = arcpy.mp.ArcGISProject(\"CURRENT\")\n",
    "    directory = p.defaultGeodatabase   \n",
    "elif Dir == 2:\n",
    "    directory = os.path.dirname( arcpy.mp.ArcGISProject(\"CURRENT\").filePath )\n",
    "elif Dir == 3:\n",
    "    directory = r\"H:\\DATA\\Service\\Wietse\\GIS\\DEM\"\n",
    "\n",
    "arcpy.env.workspace = directory"
   ]
  },
  {
   "cell_type": "markdown",
   "metadata": {},
   "source": [
    "# Inladen bestanden"
   ]
  },
  {
   "cell_type": "code",
   "execution_count": 7,
   "metadata": {},
   "outputs": [],
   "source": [
    "Input_Arcpy_Eenmalig = r\"H:\\Team_Kennis_OSA\\Hydraulische toetsing\\Basisbestanden Zomer\\Input_ArpPy\\Eenmalige_bestanden\"\n",
    "Bodemkaart_HDSR = os.path.join(Input_Arcpy_Eenmalig,\"Bodemkaart_HDSR.shp\")"
   ]
  },
  {
   "cell_type": "code",
   "execution_count": 9,
   "metadata": {},
   "outputs": [
    {
     "ename": "ExecuteError",
     "evalue": "Failed to execute. Parameters are not valid.\nERROR 000824: The tool is not licensed.\nFailed to execute (SplitLineAtPoint).\n",
     "output_type": "error",
     "traceback": [
      "\u001b[0;31m---------------------------------------------------------------------------\u001b[0m\n\u001b[0;31mExecuteError\u001b[0m                              Traceback (most recent call last)",
      "In  \u001b[0;34m[9]\u001b[0m:\nLine \u001b[0;34m10\u001b[0m:    arcpy.SplitLineAtPoint_management(input_line, input_points, output_lines)\n",
      "File \u001b[0;34mC:\\Program Files\\ArcGIS\\Pro\\Resources\\ArcPy\\arcpy\\management.py\u001b[0m, in \u001b[0;32mSplitLineAtPoint\u001b[0m:\nLine \u001b[0;34m4762\u001b[0m:  \u001b[34mraise\u001b[39;49;00m e\n",
      "File \u001b[0;34mC:\\Program Files\\ArcGIS\\Pro\\Resources\\ArcPy\\arcpy\\management.py\u001b[0m, in \u001b[0;32mSplitLineAtPoint\u001b[0m:\nLine \u001b[0;34m4759\u001b[0m:  retval = convertArcObjectToPythonObject(gp.SplitLineAtPoint_management(*gp_fixargs((in_features, point_features, out_feature_class, search_radius), \u001b[34mTrue\u001b[39;49;00m)))\n",
      "File \u001b[0;34mC:\\Program Files\\ArcGIS\\Pro\\Resources\\ArcPy\\arcpy\\geoprocessing\\_base.py\u001b[0m, in \u001b[0;32m<lambda>\u001b[0m:\nLine \u001b[0;34m512\u001b[0m:   \u001b[34mreturn\u001b[39;49;00m \u001b[34mlambda\u001b[39;49;00m *args: val(*gp_fixargs(args, \u001b[34mTrue\u001b[39;49;00m))\n",
      "\u001b[0;31mExecuteError\u001b[0m: Failed to execute. Parameters are not valid.\nERROR 000824: The tool is not licensed.\nFailed to execute (SplitLineAtPoint).\n\n\u001b[0;31m---------------------------------------------------------------------------\u001b[0m"
     ]
    }
   ],
   "source": [
    "import arcpy\n",
    "\n",
    "# Set up your workspace and input data\n",
    "\n",
    "input_line = \"Primaire_watergangen.shp\"\n",
    "input_points = \"Network_n_filter.shp\"\n",
    "output_lines = \"output_lines.shp\"\n",
    "\n",
    "# Execute the Split Line at Point tool\n",
    "arcpy.SplitLineAtPoint_management(input_line, input_points, output_lines)\n",
    "\n",
    "print(\"Line split completed.\")"
   ]
  },
  {
   "cell_type": "markdown",
   "metadata": {},
   "source": [
    "# Inladen Sobek bestanden"
   ]
  },
  {
   "cell_type": "code",
   "execution_count": 6,
   "metadata": {},
   "outputs": [
    {
     "ename": "RuntimeError",
     "evalue": "Object: Error in executing tool",
     "output_type": "error",
     "traceback": [
      "\u001b[0;31m---------------------------------------------------------------------------\u001b[0m\n\u001b[0;31mRuntimeError\u001b[0m                              Traceback (most recent call last)",
      "In  \u001b[0;34m[6]\u001b[0m:\nLine \u001b[0;34m42\u001b[0m:    split_line_with_point(line_shapefile, point_shapefile, output_shapefile)\n",
      "In  \u001b[0;34m[6]\u001b[0m:\nLine \u001b[0;34m32\u001b[0m:    arcpy.CopyFeatures_management(split_lines, output_shapefile)\n",
      "File \u001b[0;34mC:\\Program Files\\ArcGIS\\Pro\\Resources\\ArcPy\\arcpy\\management.py\u001b[0m, in \u001b[0;32mCopyFeatures\u001b[0m:\nLine \u001b[0;34m4223\u001b[0m:  \u001b[34mraise\u001b[39;49;00m e\n",
      "File \u001b[0;34mC:\\Program Files\\ArcGIS\\Pro\\Resources\\ArcPy\\arcpy\\management.py\u001b[0m, in \u001b[0;32mCopyFeatures\u001b[0m:\nLine \u001b[0;34m4220\u001b[0m:  retval = convertArcObjectToPythonObject(gp.CopyFeatures_management(*gp_fixargs((in_features, out_feature_class, config_keyword, spatial_grid_1, spatial_grid_2, spatial_grid_3), \u001b[34mTrue\u001b[39;49;00m)))\n",
      "File \u001b[0;34mC:\\Program Files\\ArcGIS\\Pro\\Resources\\ArcPy\\arcpy\\geoprocessing\\_base.py\u001b[0m, in \u001b[0;32m<lambda>\u001b[0m:\nLine \u001b[0;34m512\u001b[0m:   \u001b[34mreturn\u001b[39;49;00m \u001b[34mlambda\u001b[39;49;00m *args: val(*gp_fixargs(args, \u001b[34mTrue\u001b[39;49;00m))\n",
      "\u001b[0;31mRuntimeError\u001b[0m: Object: Error in executing tool\n\u001b[0;31m---------------------------------------------------------------------------\u001b[0m"
     ]
    }
   ],
   "source": [
    "import arcpy\n",
    "\n",
    "def split_line_with_point(line_shapefile, point_shapefile, output_shapefile):\n",
    "    # Create an in-memory feature layer for the line shapefile\n",
    "    arcpy.MakeFeatureLayer_management(line_shapefile, \"line_layer\")\n",
    "\n",
    "    # Create a search cursor to iterate over the point features\n",
    "    with arcpy.da.SearchCursor(point_shapefile, [\"SHAPE@\"]) as cursor:\n",
    "        for row in cursor:\n",
    "            point_geometry = row[0]\n",
    "\n",
    "            # Select the line features intersecting the current point\n",
    "            arcpy.SelectLayerByLocation_management(\"line_layer\", \"INTERSECT\", point_geometry)\n",
    "\n",
    "            # Create an empty list to store the split line features\n",
    "            split_lines = []\n",
    "\n",
    "            # Iterate over the selected line features\n",
    "            with arcpy.da.SearchCursor(\"line_layer\", [\"SHAPE@\"]) as line_cursor:\n",
    "                for line_row in line_cursor:\n",
    "                    line_geometry = line_row[0]\n",
    "\n",
    "                    # Split the line at the point using geometry operations\n",
    "                    left_part = line_geometry.segmentAlongLine(0, point_geometry)\n",
    "                    right_part = line_geometry.segmentAlongLine(point_geometry, line_geometry.length)\n",
    "\n",
    "                    # Add the split line features to the list\n",
    "                    split_lines.append(left_part)\n",
    "                    split_lines.append(right_part)\n",
    "\n",
    "            # Insert the split line features into the output shapefile\n",
    "            arcpy.CopyFeatures_management(split_lines, output_shapefile)\n",
    "\n",
    "    # Clean up the in-memory feature layer\n",
    "    arcpy.Delete_management(\"line_layer\")\n",
    "\n",
    "# Example usage\n",
    "line_shapefile = os.path.join(directory,\"RchSegments.shp\")\n",
    "point_shapefile = os.path.join(directory,\"Network_n_filter.shp\")\n",
    "output_shapefile = os.path.join(directory,\"test.shp\")\n",
    "\n",
    "split_line_with_point(line_shapefile, point_shapefile, output_shapefile)\n"
   ]
  },
  {
   "cell_type": "code",
   "execution_count": 12,
   "metadata": {},
   "outputs": [],
   "source": [
    "def generate_points_at_segment_end(input_line_shapefile, output_point_shapefile):\n",
    "    # Set environment settings\n",
    "    arcpy.env.workspace = directory\n",
    "\n",
    "    # Create a new point shapefile\n",
    "    arcpy.CreateFeatureclass_management(arcpy.env.workspace, \"temp_points.shp\", \"POINT\", input_line_shapefile)\n",
    "\n",
    "    # Iterate over line features\n",
    "    with arcpy.da.SearchCursor(input_line_shapefile, [\"SHAPE@\", \"OID@\"]) as cursor:\n",
    "        for row in cursor:\n",
    "            line = row[0]\n",
    "            line_oid = row[1]\n",
    "\n",
    "            # Extract start and end points\n",
    "            start_point = line.firstPoint\n",
    "            end_point = line.lastPoint\n",
    "\n",
    "            # Create new point feature and insert it into the temporary point shapefile\n",
    "            point = arcpy.PointGeometry(end_point)\n",
    "            with arcpy.da.InsertCursor(\"temp_points.shp\", \"SHAPE@\") as icursor:\n",
    "                icursor.insertRow([point])\n",
    "\n",
    "    # Delete all line features from the input line shapefile\n",
    "    arcpy.DeleteFeatures_management(input_line_shapefile)\n",
    "\n",
    "    # Merge the temporary point shapefile with the output point shapefile\n",
    "    arcpy.Merge_management([\"temp_points.shp\", output_point_shapefile], \"in_memory/merged_points\")\n",
    "\n",
    "    # Rename the merged point shapefile to the desired output name\n",
    "    arcpy.Rename_management(\"in_memory/merged_points\", output_point_shapefile)\n",
    "\n",
    "    # Delete the temporary point shapefile\n",
    "    arcpy.Delete_management(\"temp_points.shp\")\n",
    "\n"
   ]
  },
  {
   "cell_type": "code",
   "execution_count": 13,
   "metadata": {},
   "outputs": [
    {
     "ename": "ExecuteError",
     "evalue": "Failed to execute. Parameters are not valid.\nERROR 000732: Input Datasets: Dataset Points_sobek.shp does not exist or is not supported\nFailed to execute (Merge).\n",
     "output_type": "error",
     "traceback": [
      "\u001b[0;31m---------------------------------------------------------------------------\u001b[0m\n\u001b[0;31mExecuteError\u001b[0m                              Traceback (most recent call last)",
      "In  \u001b[0;34m[13]\u001b[0m:\nLine \u001b[0;34m3\u001b[0m:     generate_points_at_segment_end(input_line_shapefile, output_point_shapefile)\n",
      "In  \u001b[0;34m[12]\u001b[0m:\nLine \u001b[0;34m27\u001b[0m:    arcpy.Merge_management([\u001b[33m\"\u001b[39;49;00m\u001b[33mtemp_points.shp\u001b[39;49;00m\u001b[33m\"\u001b[39;49;00m, output_point_shapefile], \u001b[33m\"\u001b[39;49;00m\u001b[33min_memory/merged_points\u001b[39;49;00m\u001b[33m\"\u001b[39;49;00m)\n",
      "File \u001b[0;34mC:\\Program Files\\ArcGIS\\Pro\\Resources\\ArcPy\\arcpy\\management.py\u001b[0m, in \u001b[0;32mMerge\u001b[0m:\nLine \u001b[0;34m7064\u001b[0m:  \u001b[34mraise\u001b[39;49;00m e\n",
      "File \u001b[0;34mC:\\Program Files\\ArcGIS\\Pro\\Resources\\ArcPy\\arcpy\\management.py\u001b[0m, in \u001b[0;32mMerge\u001b[0m:\nLine \u001b[0;34m7061\u001b[0m:  retval = convertArcObjectToPythonObject(gp.Merge_management(*gp_fixargs((inputs, output, field_mappings, add_source), \u001b[34mTrue\u001b[39;49;00m)))\n",
      "File \u001b[0;34mC:\\Program Files\\ArcGIS\\Pro\\Resources\\ArcPy\\arcpy\\geoprocessing\\_base.py\u001b[0m, in \u001b[0;32m<lambda>\u001b[0m:\nLine \u001b[0;34m512\u001b[0m:   \u001b[34mreturn\u001b[39;49;00m \u001b[34mlambda\u001b[39;49;00m *args: val(*gp_fixargs(args, \u001b[34mTrue\u001b[39;49;00m))\n",
      "\u001b[0;31mExecuteError\u001b[0m: Failed to execute. Parameters are not valid.\nERROR 000732: Input Datasets: Dataset Points_sobek.shp does not exist or is not supported\nFailed to execute (Merge).\n\n\u001b[0;31m---------------------------------------------------------------------------\u001b[0m"
     ]
    }
   ],
   "source": [
    "input_line_shapefile = \"RchSegments.shp\"\n",
    "output_point_shapefile = \"Points_sobek.shp\"\n",
    "generate_points_at_segment_end(input_line_shapefile, output_point_shapefile)\n"
   ]
  },
  {
   "cell_type": "markdown",
   "metadata": {},
   "source": [
    "# Bepalen boden voor stroomsnelheid"
   ]
  },
  {
   "cell_type": "code",
   "execution_count": 9,
   "metadata": {},
   "outputs": [],
   "source": [
    "arcpy.AddField_management(Bodemkaart_HDSR, \"vel_crit\", \"DOUBLE\")\n",
    "\n",
    "def calculate_value(field_value):\n",
    "    if \"Stedelijk\" in field_value or \"stedelijk\" in field_value:\n",
    "        return 0.3\n",
    "    elif \"Zand\" in field_value or \"zand\" in field_value:\n",
    "        return 0.3\n",
    "    elif \"Veen\" in field_value or \"veen\" in field_value:\n",
    "        return 0.3001\n",
    "    elif \"Klei\" in field_value or \"klei\" in field_value:\n",
    "        return 0.6\n",
    "    elif \"Zavel\" in field_value or \"zavel\" in field_value:\n",
    "        return 0.6\n",
    "    elif \"Water\" in field_value or \"water\" in field_value:\n",
    "        return 0.3\n",
    "    elif \"Moeras\" in field_value or \"moeras\" in field_value:\n",
    "        return 0.3001\n",
    "    elif \"Overig\" in field_value or \"overig\" in field_value:\n",
    "        return 0.3001\n",
    "    else:\n",
    "        return 0.9\n",
    "\n",
    "# Calculate the values of the calculation_field using the calculate_value function\n",
    "with arcpy.da.UpdateCursor(Bodemkaart_HDSR, [\"GRONDSOORT\", \"vel_crit\"]) as cursor:\n",
    "    for row in cursor:\n",
    "        row[1] = calculate_value(row[0])\n",
    "        cursor.updateRow(row)\n"
   ]
  },
  {
   "cell_type": "code",
   "execution_count": null,
   "metadata": {},
   "outputs": [],
   "source": [
    "def perform_spatial_join(input_features, join_features, output_features):\n",
    "    field_mappings = arcpy.FieldMappings()\n",
    "    field_mappings.addTable(input_features)\n",
    "    field_mappings.addTable(join_features)\n",
    "\n",
    "    output_fields = [\"ID\", \"hydro_segm\", \"pg_code\", \"Value\", \"dir_et\", \"LENGTE\", \"vel_crit\"]\n",
    "\n",
    "    for field in field_mappings.fields:\n",
    "        if field.name not in output_fields:\n",
    "            field_mappings.removeFieldMap(field_mappings.findFieldMapIndex(field.name))\n",
    "\n",
    "    arcpy.SpatialJoin_analysis(\n",
    "        target_features=input_features,\n",
    "        join_features=join_features,\n",
    "        out_feature_class=output_features,\n",
    "        join_operation=\"JOIN_ONE_TO_ONE\",\n",
    "        join_type=\"KEEP_ALL\",\n",
    "        field_mapping=field_mappings,\n",
    "        match_option=\"INTERSECT\",\n",
    "        search_radius=\"0 Meters\"\n",
    "    )\n",
    "\n",
    "# Example usage:\n",
    "input_features = \"SOBEK_ReachSegments_Join_PG_Hydro_Line_20210819_Discharge_Length\"\n",
    "output_features = \"SOBEK_ReachSegments_Join_PG_Hydro_Line_20210819_Discharge_Length_Soil_shp\"\n",
    "\n",
    "perform_spatial_join(input_features, Bodemkaart_HDSR, output_features)\n"
   ]
  },
  {
   "cell_type": "markdown",
   "metadata": {},
   "source": [
    "# Drooglegging bepalen"
   ]
  },
  {
   "cell_type": "markdown",
   "metadata": {},
   "source": [
    "# Droogleggingseis toetsen per punt"
   ]
  },
  {
   "cell_type": "markdown",
   "metadata": {},
   "source": [
    "# Exporteer Sobek resultaten naar kunstwerk punten"
   ]
  },
  {
   "cell_type": "code",
   "execution_count": null,
   "metadata": {},
   "outputs": [],
   "source": []
  }
 ],
 "metadata": {
  "kernelspec": {
   "display_name": "ArcGISPro",
   "language": "Python",
   "name": "python3"
  },
  "language_info": {
   "file_extension": ".py",
   "name": "python",
   "version": "3"
  }
 },
 "nbformat": 4,
 "nbformat_minor": 2
}
