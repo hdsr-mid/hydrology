{
 "cells": [
  {
   "cell_type": "code",
   "execution_count": null,
   "metadata": {},
   "outputs": [],
   "source": [
    "import arcpy, os\n",
    "import arcpy\n",
    "from osgeo import gdal\n",
    "\n",
    "arcpy.env.addOutputsToMap = False   # Prevents many small grid files to show on map\n",
    "arcpy.env.overwriteOutput = True"
   ]
  },
  {
   "cell_type": "code",
   "execution_count": null,
   "metadata": {},
   "outputs": [],
   "source": [
    "# Directory option 1: Use project gdb\n",
    "# Directory option 2: use project directory\n",
    "# Directory option 3: Custom directory\n",
    "Dir = 2  # [1, 2 or 3] (Default is 1)\n",
    "\n",
    "if Dir == 1:\n",
    "    p = arcpy.mp.ArcGISProject(\"CURRENT\")\n",
    "    directory = p.defaultGeodatabase   \n",
    "elif Dir == 2:\n",
    "    directory = os.path.dirname( arcpy.mp.ArcGISProject(\"CURRENT\").filePath )\n",
    "elif Dir == 3:\n",
    "    directory = r\"H:\\DATA\\Service\\Wietse\\GIS\\DEM\"\n",
    "\n",
    "arcpy.env.workspace = directory"
   ]
  },
  {
   "cell_type": "markdown",
   "metadata": {
    "heading_collapsed": true
   },
   "source": [
    "# Inladen bestanden"
   ]
  },
  {
   "cell_type": "code",
   "execution_count": null,
   "metadata": {
    "hidden": true
   },
   "outputs": [],
   "source": []
  },
  {
   "cell_type": "code",
   "execution_count": null,
   "metadata": {
    "hidden": true
   },
   "outputs": [],
   "source": []
  },
  {
   "cell_type": "markdown",
   "metadata": {
    "heading_collapsed": true
   },
   "source": [
    "# Bepalen boden voor stroomsnelheid"
   ]
  },
  {
   "cell_type": "code",
   "execution_count": null,
   "metadata": {
    "hidden": true
   },
   "outputs": [],
   "source": []
  },
  {
   "cell_type": "markdown",
   "metadata": {},
   "source": [
    "# Drooglegging bepalen"
   ]
  },
  {
   "cell_type": "markdown",
   "metadata": {},
   "source": [
    "# Droogleggingseis toetsen per punt"
   ]
  },
  {
   "cell_type": "markdown",
   "metadata": {},
   "source": [
    "# Exporteer Sobek resultaten naar kunstwerk punten"
   ]
  },
  {
   "cell_type": "code",
   "execution_count": null,
   "metadata": {},
   "outputs": [],
   "source": []
  }
 ],
 "metadata": {
  "kernelspec": {
   "display_name": "ArcGISPro",
   "language": "Python",
   "name": "python3"
  },
  "language_info": {
   "file_extension": ".py",
   "name": "python",
   "version": "3"
  }
 },
 "nbformat": 4,
 "nbformat_minor": 2
}
