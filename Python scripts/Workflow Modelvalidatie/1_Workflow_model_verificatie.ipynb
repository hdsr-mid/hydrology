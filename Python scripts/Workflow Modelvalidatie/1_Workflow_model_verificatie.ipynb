{
 "cells": [
  {
   "cell_type": "markdown",
   "id": "4a379cc4",
   "metadata": {},
   "source": [
    "# Workflow model evaluatie: Deel 1 Verificatie"
   ]
  },
  {
   "cell_type": "markdown",
   "id": "217a5f38",
   "metadata": {},
   "source": [
    "Laatste aanpassing: 25  nov 2024 <br>\n",
    "Contact: Petra Hulsman <br>"
   ]
  },
  {
   "cell_type": "markdown",
   "id": "85130417",
   "metadata": {},
   "source": [
    "## Context"
   ]
  },
  {
   "cell_type": "markdown",
   "id": "3a7c92db",
   "metadata": {},
   "source": [
    "Binnen HDSR worden hydraulische modellen gebruikt voor het beantwoorden van verschillende vraagstukken. Bijvoorbeeld: Zitten er knelpunten in het systeem bij een T=1 zomer afvoersituatie? Hoeveel ruimte is er beschikbaar voor NVOs? Tot welke diepte moet minimaal gebaggerd worden? Welke dimensies moeten nieuwe kunstwerken bij voorkeur hebben om knelpunten te kunen voorkomen? Welke gebieden zijn kwetsbaar voor inundatie? Momenteel (anno begin 2024) wordt voornamelijk Sobek gebruikt om debieten en waterniveaus in primaire watergangen te modelleren. Het is van groot belang dat onze modellen betrouwbaar zijn.\n",
    "\n",
    "In deze notebook is een workflow voor de model evaluatie opgezet. Deze bestaat uit drie delen:\n",
    "1. Verificatie: model resultaten vs. beheerregister (BR)\n",
    "2. Validatie: model resultaten vs. puntmetingen\n",
    "3. Model vergelijking: model A vs. model B/satelliet data (n.b.: satelliet data zijn vaak ook het resultaat van modellen)\n",
    "\n",
    "Deze workflow kan gebruikt worden om de betrouwbaarheid van onze modellen te kunnen bepalen en om model onnauwkeurigheden te kunnen identificeren en verbeteren. Deze evaluatie is sterk afhankelijk van de betrouwbaarheid van geobserveerde data, namelijk veld observaties en satelliet data die hiervoor gebruikt worden. Het is daarom erg belangrijk om te onthouden dat er niet alleen onzekerheden zijn in het model maar ook in de geobserveerde data. Daarom wordt aanbevolen kritisch naar de resultaten te kijken voordat een oordeel getroffen wordt."
   ]
  },
  {
   "cell_type": "markdown",
   "id": "817aa4b7",
   "metadata": {},
   "source": [
    "## Uitvoer"
   ]
  },
  {
   "cell_type": "markdown",
   "id": "a0872876",
   "metadata": {},
   "source": [
    "Deze code werkt nu met de virtuale omgeving \"Petra_arcpy\" op de rekenserver reken05. Momenteel is een handmatige na-controle aan te raden om te verifieren of alle ruimtelijke koppelingen tussen model en data goed is gegaan.\n",
    "\n",
    "Belangrijke informatie:\n",
    "De FEWS-WIS data is m.b.v. een aparte script iets bewerkt voor dat het hier gebruikt wordt (vandaar ook de subscript \"edited\" in de bestandsnamen). Hierbij is op locaties waar er meerere pompen zijn, het totaal debiet toegevoegd."
   ]
  },
  {
   "cell_type": "markdown",
   "id": "60d8a03b",
   "metadata": {},
   "source": [
    "### Streefpeil: BR vs. RUPROF\n",
    "<br>\n",
    "<u>Variabele</u>:  <br>\n",
    "- Zomer streepeil  <br>\n",
    "<u>Aanpak</u>:  <br>\n",
    "- Verschil tussen 1) streefpeil (BR), en 2) startwaarde gemodelleerd waterniveau (RUPROF) <br>\n",
    "<u>Output</u>: <br>\n",
    "- Shapefile (polypoints): verschil tussen BR en model <br>\n",
    "- Figuren: verschil per modelknooppunt en maximum verschil per afvoergebied (knopen met dWL < 0.05 m zijn grijs gemarkeerd)"
   ]
  },
  {
   "cell_type": "code",
   "execution_count": null,
   "id": "953756d4",
   "metadata": {},
   "outputs": [],
   "source": [
    "import os\n",
    "import functies_ruimtelijk_streefpeil\n",
    "class paths():\n",
    "    # Input\n",
    "    root         = os.getcwd()    \n",
    "    df_WL_csv    = os.path.join(root, 'Input','Sobek output','SOBEK_WL_150724_init.csv') # gemodelleerd waterniveau op basis van Sobek (op t=0 uit RUPROF)\n",
    "    shp_peil     = os.path.join(root,\"GIS input\",\"BR-VS_Peilgebieden.shp\") # shapefile van de peilgebieden\n",
    "    shp_reach    = os.path.join(root,\"GIS input\",\"RchSegments.shp\") # shapefile van de reach segments (watergangen), export uit Sobek\n",
    "    shp_node     = os.path.join(root,\"GIS input\",'3b_nod_joined.shp') # shapefile van de model knopen, export uit Sobek en ge-joined met BR-peilgebieden in ArcMAP\n",
    "    shp_afvoer   = os.path.join(root,\"GIS input\",\"BR_VS_Afvoergebieden.shp\") # shapefile van de afvoergebieden\n",
    "    \n",
    "    # Output\n",
    "    shp_node_dWL = os.path.join(root,\"GIS output\",'WL_streefpeil_RUPROF_data.shp') # shapefile met het waterniveau verschil per knooppunt\n",
    "    fightml      = os.path.join(root,\"Output\",'1_fig_WL_streefpeil.html') # html figuur met de verschillen in waterniveau\n",
    "\n",
    "    \n",
    "functies_ruimtelijk_streefpeil.main(paths)"
   ]
  },
  {
   "cell_type": "markdown",
   "id": "0b63fc62",
   "metadata": {},
   "source": [
    "### Streefpeil vs. peibesluit\n",
    "<br>\n",
    "<u>Variabele</u>:  <br>\n",
    "- Zomer streepeil  <br>\n",
    "<u>Aanpak</u>:  <br>\n",
    "- Verschil tussen 1) streefpeil (BR), en 2) peilbesluit (BR)  <br>\n",
    "<u>Output</u>: <br>\n",
    "- Shapefile (polygons):  <br>\n",
    "  1. streefpeil (BR) met daarin verwerkt de peilen volgens het peilbesluit <br>\n",
    "  2. ruimtelijke verschillen <br>\n",
    "- Figuren: <br>\n",
    "  1. gebieden met peilverschillen (ja/nee kleurcode) <br>\n",
    "  2. peilgebieden met afwijkende ruimtelijke grenzen"
   ]
  },
  {
   "cell_type": "code",
   "execution_count": null,
   "id": "c01dfedf",
   "metadata": {},
   "outputs": [],
   "source": [
    "import os\n",
    "import functies_ruimtelijk_peil\n",
    "class paths():\n",
    "    # Input\n",
    "    root           = os.getcwd()    \n",
    "    shp_streefpeil = os.path.join(root,\"GIS input\",\"BR-VS_Peilgebieden.shp\") # shapefile van de peilgebieden    \n",
    "    shp_peilbesluit= os.path.join(root,\"GIS input\",\"BR-VS_Peilbesluitpeilgebieden.shp\") # shapefile van de peilbesluiten    \n",
    "    \n",
    "    # Output\n",
    "    shp_out  = os.path.join(root,\"GIS output\",'peilbesluit_verschil_numeriek.shp') # shapefile output (numerieke verschillen)\n",
    "    shp_diff = os.path.join(root,\"GIS output\",'peilbesluit_verschil_ruimtelijk.shp') # shapefile output (ruimtelijke verschillen)\n",
    "    fightml  = os.path.join(root,\"Output\",'1_fig_peilbesluit.html') # figuur\n",
    "    \n",
    "\n",
    "functies_ruimtelijk_peil.main(paths)"
   ]
  }
 ],
 "metadata": {
  "kernelspec": {
   "display_name": "Python 3 (ipykernel)",
   "language": "python",
   "name": "python3"
  },
  "language_info": {
   "codemirror_mode": {
    "name": "ipython",
    "version": 3
   },
   "file_extension": ".py",
   "mimetype": "text/x-python",
   "name": "python",
   "nbconvert_exporter": "python",
   "pygments_lexer": "ipython3",
   "version": "3.8.18"
  }
 },
 "nbformat": 4,
 "nbformat_minor": 5
}
