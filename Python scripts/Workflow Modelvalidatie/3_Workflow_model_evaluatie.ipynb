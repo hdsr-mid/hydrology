{
 "cells": [
  {
   "cell_type": "markdown",
   "id": "4a379cc4",
   "metadata": {},
   "source": [
    "# Workflow model evaluatie: Deel 3 Model vergelijking"
   ]
  },
  {
   "cell_type": "markdown",
   "id": "217a5f38",
   "metadata": {},
   "source": [
    "Laatste aanpassing: 17 dec 2024 <br>\n",
    "Contact: Petra Hulsman <br>"
   ]
  },
  {
   "cell_type": "markdown",
   "id": "85130417",
   "metadata": {},
   "source": [
    "## Context"
   ]
  },
  {
   "cell_type": "markdown",
   "id": "3a7c92db",
   "metadata": {},
   "source": [
    "Binnen HDSR worden hydraulische modellen gebruikt voor het beantwoorden van verschillende vraagstukken. Bijvoorbeeld: Zitten er knelpunten in het systeem bij een T=1 zomer afvoersituatie? Hoeveel ruimte is er beschikbaar voor NVOs? Tot welke diepte moet minimaal gebaggerd worden? Welke dimensies moeten nieuwe kunstwerken bij voorkeur hebben om knelpunten te kunen voorkomen? Welke gebieden zijn kwetsbaar voor inundatie? Momenteel (anno begin 2024) wordt voornamelijk Sobek gebruikt om debieten en waterniveaus in primaire watergangen te modelleren. Het is van groot belang dat onze modellen betrouwbaar zijn.\n",
    "\n",
    "In deze notebook is een workflow voor de model evaluatie opgezet. Deze bestaat uit drie delen:\n",
    "1. Verificatie: model resultaten vs. beheerregister (BR)\n",
    "2. Validatie: model resultaten vs. puntmetingen\n",
    "3. Model vergelijking: model A vs. model B/satelliet data (n.b.: satelliet data zijn vaak ook het resultaat van modellen)\n",
    "\n",
    "Deze workflow kan gebruikt worden om de betrouwbaarheid van onze modellen te kunnen bepalen en om model onnauwkeurigheden te kunnen identificeren en verbeteren. Deze evaluatie is sterk afhankelijk van de betrouwbaarheid van geobserveerde data, namelijk veld observaties en satelliet data die hiervoor gebruikt worden. Het is daarom erg belangrijk om te onthouden dat er niet alleen onzekerheden zijn in het model maar ook in de geobserveerde data. Daarom wordt aanbevolen kritisch naar de resultaten te kijken voordat een oordeel getroffen wordt."
   ]
  },
  {
   "cell_type": "markdown",
   "id": "817aa4b7",
   "metadata": {},
   "source": [
    "## Uitvoer"
   ]
  },
  {
   "cell_type": "markdown",
   "id": "a0872876",
   "metadata": {},
   "source": [
    "Deze code werkt nu met de virtuale omgeving \"Petra_arcpy\" op de rekenserver reken05. Momenteel is een handmatige na-controle aan te raden om te verifieren of alle ruimtelijke koppelingen tussen model en data goed is gegaan.\n",
    "\n",
    "Belangrijke informatie:\n",
    "De FEWS-WIS data is m.b.v. een aparte script iets bewerkt voor dat het hier gebruikt wordt (vandaar ook de subscript \"edited\" in de bestandsnamen). Hierbij is op locaties waar er meerere pompen zijn, het totaal debiet toegevoegd."
   ]
  },
  {
   "cell_type": "markdown",
   "id": "2f5226de",
   "metadata": {},
   "source": [
    "### Afvoer (laterals): RUPROF vs. Hydromedah\n",
    "<br>\n",
    "<u>Variabele</u>:  <br>\n",
    "- Afvoer (i.e. lateral) voor T=1 in de zomer  <br>\n",
    "<u>Aanpak</u>:  <br>\n",
    "- Verschil tussen 1) hydrologisch/grondwater model (HYDROMEDAH), en 2) karakterestieke waarden per landgebruik (RUPROF input) <br>\n",
    "<u>Output</u>: <br>\n",
    "- Shapefile (polygons): verschil tussen HYDROMEDAH en RUPROF <br>\n",
    "- Figuren: verschil per afwateringsgebied (gebieden met dQ = 0.0 m zijn grijs gemarkeerd)"
   ]
  },
  {
   "cell_type": "code",
   "execution_count": null,
   "id": "a80ad6aa",
   "metadata": {},
   "outputs": [],
   "source": [
    "import os\n",
    "import numpy as np\n",
    "import functies_punt_laterals_T1\n",
    "\n",
    "class paths():\n",
    "    # Input bestanden\n",
    "    root          = os.getcwd()\n",
    "    shp_RchSeg    = os.path.join(root, 'GIS input','RchSegments.shp') # shapefile van de reach segments, export uit Sobek\n",
    "    shp_node      = os.path.join(root, 'GIS input','Sbk_Lat_n.shp') # shapefile van de lateralen punten, export uit Sobek\n",
    "    dat_Sobek     = os.path.join(root, 'Input','Sobek output','MOD_ADJ_V4.lit') # locatie Sobek HIS output bestanden\n",
    "    dat_lat       = os.path.join(root, 'Input','Sobek output','LATERAL.DAT') # lateralen data, Sobek input data\n",
    "    shp_afvoer    = os.path.join(root,\"GIS input\",\"BR_VS_Afvoergebieden.shp\") # shapefile van de afvoergebieden\n",
    "    shp_afwatr    = os.path.join(root,\"GIS input\",\"Afwateringseenheden_2020.shp\") # shapefile van de afwateringsgebieden\n",
    "    \n",
    "     # Output bestanden\n",
    "    shp_laterals  = os.path.join(root,\"GIS output\",'laterals_T1_RUPROF_HYDROMEDAH.shp') # shapefile met lateralen data op basis van HYDROMEDAH, RUPROF en het verschil\n",
    "    shp_HYDROMEDAH= os.path.join(root,\"GIS output\",'laterals_T1_HYDROMEDAH.shp') # shapefile met lateralen data op basis van HYDROMEDAH, alleen opgeslagen als er iets mis gaat bij het converteren van reach segments naar lateralen knopen (u wordt geinformeerd als dit gebeurt)\n",
    "    shp_RUPROF    = os.path.join(root,\"GIS output\",'laterals_T1_RUPROF.shp') # shapefile met lateralen data op basis van RUPROF\n",
    "    fightml       = os.path.join(root,\"Output\",'3_fig_laterals_T1.html') # Figuur van de verschillen in lateralen data\n",
    "\n",
    "months = [5,6,7,8,9] # maanden in het jaar om statistiek over te berekenen\n",
    "years  = np.arange(2010,2022) # zie Sobek continue model time-range\n",
    "functies_punt_laterals_T1.main(paths,months,years)"
   ]
  },
  {
   "cell_type": "markdown",
   "id": "87d6efb9-25c6-4a39-8981-c8d34a678221",
   "metadata": {},
   "source": [
    "Note: Handmatige controle voor de ruimtelijke koppeling van HYDROMEDAH debieten (RchSegments) naar lateral nodes (Sbk_Lat_n). De afstand is groot op 2 locaties, maar daar is deze koppeling ook goed gegaan. Om een of andere reden is daar geen rStor link."
   ]
  },
  {
   "cell_type": "markdown",
   "id": "d7d92b82",
   "metadata": {},
   "source": [
    "### Afvoer (laterals): Hydromedah vs. satelliet\n",
    "<br>\n",
    "<u>Variabele</u>:  <br>\n",
    "- Gemiddelde afvoer (i.e. lateral) richting primaire watergang  <br>\n",
    "<u>Aanpak</u>:  <br>\n",
    "- Verschil tussen 1) satelliet data (FEWS_WIS), en 2) model (HYDROMEDAH, via laterals in Sobek model) <br>\n",
    "<u>Randvoorwaarden</u>: <br>\n",
    "- Gemiddelde afvoer per peilgebied <br>\n",
    "<u>Output</u>: <br>\n",
    "- Shapefile (polygons): verschil tussen data en model op afvoergebiedniveau<br>\n",
    "- Figuren: verschil per afwateringsgebied"
   ]
  },
  {
   "cell_type": "code",
   "execution_count": null,
   "id": "e17575a8",
   "metadata": {},
   "outputs": [],
   "source": [
    "import os\n",
    "import numpy as np\n",
    "import functies_ruimtelijk_afvoer_gem\n",
    "\n",
    "class paths():\n",
    "    # Input bestanden\n",
    "    root          = os.getcwd()\n",
    "    shp_RchSeg    = os.path.join(root, 'GIS input','RchSegments.shp') # shapefile van de reach segments, export uit Sobek\n",
    "    shp_node      = os.path.join(root, 'GIS input','Sbk_Lat_n.shp') # shapefile van de lateralen punten, export uit Sobek\n",
    "    dat_Sobek     = os.path.join(root, 'Input','Sobek output','MOD_ADJ_V4.lit') # locatie Sobek HIS output bestanden\n",
    "    dat_lat       = os.path.join(root, 'Input','Sobek output','LATERAL.DAT') # lateralen data, Sobek input data\n",
    "    shp_afvoer    = os.path.join(root,\"GIS input\",\"BR_VS_Afvoergebieden.shp\") # shapefile van de afvoergebieden\n",
    "    shp_afwatr    = os.path.join(root,\"GIS input\",\"Afwateringseenheden_2020.shp\") # shapefile van de afwateringsgebieden\n",
    "    shp_peil      = os.path.join(root,\"GIS input\",\"BR-VS_Peilgebieden_2010_FEWSWIS.shp\") # shapefile van de peilgebieden zoals gebruikt in FEWS-WIS\n",
    "    df_P          = os.path.join(root,'Input','FEWS-WIS','P_KNMI_2000_2024_peilgebieden.csv') # jaarlijkse regen data\n",
    "    df_E          = os.path.join(root,'Input','FEWS-WIS','E_ELEAF_2000_2024_peilgebieden.csv') # jaarlijkse verdamping data\n",
    "    raster_kwelO  = os.path.join(root,'GIS input','Oost_HUI_BDGFLF_MEAN_2012-1-1_TO_2019-12-31_L2_MMPD.tif') # kwel raster\n",
    "    raster_kwelW  = os.path.join(root,'GIS input','Veenweide_BDGFLF_MEAN_2010-1-1_TO_2020-12-31_L2_MMD.tif') # kwel raster\n",
    "        \n",
    "    # Output bestanden\n",
    "    shp_kwel       = os.path.join(root,\"GIS output\",'kwel.shp') # shapefile met afvoer data op basis van HYDROMEDAH, satelliet data en het verschil\n",
    "    shp_comp       = os.path.join(root,\"GIS output\",'laterals_RS_gem_HYDROMEDAH_data.shp') # shapefile met afvoer data op basis van HYDROMEDAH, satelliet data en het verschil\n",
    "    shp_sat        = os.path.join(root,\"GIS output\",'laterals_RS_gem_SATELLIET.shp') # shapefile met afvoer data op basis van satelliet data\n",
    "    shp_HYDROMEDAH = os.path.join(root,\"GIS output\",'laterals_RS_gem_HYDROMEDAH.shp') # shapefile met afvoer data op basis van HYDROMEDAH\n",
    "    fightml       = os.path.join(root,\"Output\",'3_fig_laterals_sat_gem.html') # Figuur van de verschillen in afvoer\n",
    "    \n",
    "\n",
    "months = [5,6,7,8,9] # maanden in het jaar om statistiek over te berekenen\n",
    "years  = np.arange(2010,2022) # zie Sobek continue model time-range\n",
    "functies_ruimtelijk_afvoer_gem.main(paths,months,years)\n"
   ]
  }
 ],
 "metadata": {
  "kernelspec": {
   "display_name": "Python 3 (ipykernel)",
   "language": "python",
   "name": "python3"
  },
  "language_info": {
   "codemirror_mode": {
    "name": "ipython",
    "version": 3
   },
   "file_extension": ".py",
   "mimetype": "text/x-python",
   "name": "python",
   "nbconvert_exporter": "python",
   "pygments_lexer": "ipython3",
   "version": "3.8.18"
  }
 },
 "nbformat": 4,
 "nbformat_minor": 5
}
