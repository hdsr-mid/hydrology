{
 "cells": [
  {
   "cell_type": "markdown",
   "id": "4a379cc4",
   "metadata": {},
   "source": [
    "# Workflow model evaluatie: Deel 2 Validatie"
   ]
  },
  {
   "cell_type": "markdown",
   "id": "217a5f38",
   "metadata": {},
   "source": [
    "Laatste aanpassing: 25 nov 2024 <br>\n",
    "Contact: Petra Hulsman <br>"
   ]
  },
  {
   "cell_type": "markdown",
   "id": "85130417",
   "metadata": {},
   "source": [
    "## Context"
   ]
  },
  {
   "cell_type": "markdown",
   "id": "3a7c92db",
   "metadata": {},
   "source": [
    "Binnen HDSR worden hydraulische modellen gebruikt voor het beantwoorden van verschillende vraagstukken. Bijvoorbeeld: Zitten er knelpunten in het systeem bij een T=1 zomer afvoersituatie? Hoeveel ruimte is er beschikbaar voor NVOs? Tot welke diepte moet minimaal gebaggerd worden? Welke dimensies moeten nieuwe kunstwerken bij voorkeur hebben om knelpunten te kunen voorkomen? Welke gebieden zijn kwetsbaar voor inundatie? Momenteel (anno begin 2024) wordt voornamelijk Sobek gebruikt om debieten en waterniveaus in primaire watergangen te modelleren. Het is van groot belang dat onze modellen betrouwbaar zijn.\n",
    "\n",
    "In deze notebook is een workflow voor de model evaluatie opgezet. Deze bestaat uit drie delen:\n",
    "1. Verificatie: model resultaten vs. beheerregister (BR)\n",
    "2. Validatie: model resultaten vs. puntmetingen\n",
    "3. Model vergelijking: model A vs. model B/satelliet data (n.b.: satelliet data zijn vaak ook het resultaat van modellen)\n",
    "\n",
    "Deze workflow kan gebruikt worden om de betrouwbaarheid van onze modellen te kunnen bepalen en om model onnauwkeurigheden te kunnen identificeren en verbeteren. Deze evaluatie is sterk afhankelijk van de betrouwbaarheid van geobserveerde data, namelijk veld observaties en satelliet data die hiervoor gebruikt worden. Het is daarom erg belangrijk om te onthouden dat er niet alleen onzekerheden zijn in het model maar ook in de geobserveerde data. Daarom wordt aanbevolen kritisch naar de resultaten te kijken voordat een oordeel getroffen wordt."
   ]
  },
  {
   "cell_type": "markdown",
   "id": "817aa4b7",
   "metadata": {},
   "source": [
    "## Uitvoer"
   ]
  },
  {
   "cell_type": "markdown",
   "id": "a0872876",
   "metadata": {},
   "source": [
    "Deze code werkt nu met de virtuale omgeving \"Petra_arcpy\" op de rekenserver reken05. Momenteel is een handmatige na-controle aan te raden om te verifieren of alle ruimtelijke koppelingen tussen model en data goed is gegaan.\n",
    "\n",
    "Belangrijke informatie:\n",
    "De FEWS-WIS data is m.b.v. een aparte script iets bewerkt voor dat het hier gebruikt wordt (vandaar ook de subscript \"edited\" in de bestandsnamen). Hierbij is op locaties waar er meerere pompen zijn, het totaal debiet toegevoegd."
   ]
  },
  {
   "cell_type": "markdown",
   "id": "ef883b17",
   "metadata": {},
   "source": [
    "### Waterniveau: RUPROF\n",
    "<br>\n",
    "<u>Variabele</u>:  <br>\n",
    "- Waterniveau voor T=1 in de zomer  <br>\n",
    "<u>Aanpak</u>:  <br>\n",
    "- Verschil tussen 1) data (FEWS-WIS), en 2) model (RUPROF) <br>\n",
    "<u>Randvoorwaarden</u>: <br>\n",
    "- Minimaal 3 jaar aan geobserveerde data beschikbaar (niet per se aaneengesloten) voor het berekenen van het T=1 debiet. <br>\n",
    "- Meetpunt dichtbij een peilschijdend kunstwerk (stuw, pomp of duiker)? Dan moeten het modelpunt en meetpunt zich in hetzelfde insteekvlak bevinden. <br>\n",
    "<u>Output</u>: <br>\n",
    "- Shapefile (polypoints): verschil tussen data en model <br>\n",
    "- Figuren: verschil per observatie punt en maximum verschil per afvoergebied"
   ]
  },
  {
   "cell_type": "code",
   "execution_count": null,
   "id": "1af2d4d7-58c2-4f03-8ca1-62df381ead92",
   "metadata": {},
   "outputs": [],
   "source": [
    "import os\n",
    "import numpy as np\n",
    "import functies_punt_WL_T1\n",
    "class paths():\n",
    "    # Input data\n",
    "    root           = os.getcwd()    \n",
    "    df_WL_WISdata  = os.path.join(root, 'Input','FEWS-WIS','WL_2000_2023_werkfilter.csv') # FEWS-WIS data\n",
    "    df_WL_WISsites = os.path.join(root, 'Input','FEWS-WIS','ow_ws.csv') # FEWS-WIS metadata voor meetpunten\n",
    "    df_model       = os.path.join(root, 'Input','Sobek output','SOBEK_WL_150724.csv') # gemodelleerd debiet op basis van Sobek (op t=0 uit RUPROF)\n",
    "    shp_node       = os.path.join(root,\"GIS input\",'3b_nod_joined.shp') # shapefile van de model knopen, export uit Sobek en ge-joined met BR-peilgebieden in ArcMAP\n",
    "    shp_afvoer     = os.path.join(root,\"GIS input\",\"BR_VS_Afvoergebieden.shp\") # shapefile van de afvoergebieden\n",
    "    shp_insteek    = os.path.join(root,\"GIS input\",\"BR-VS_Insteekvlak.shp\") # shapefile van het insteekvlak\n",
    "    shp_reach      = os.path.join(root,\"GIS input\",\"RchSegments_Qstat.shp\") # shapefile van de reach segments (watergangen), export uit Sobek\n",
    "    shp_regios     = os.path.join(root,\"GIS input\",\"HDSR_regios.shp\") # shapefile van HDSR regios\n",
    "    \n",
    "    # Output data\n",
    "    gdf_data      = os.path.join(root,\"GIS output\",\"WL_T1_DATA.shp\") # shapefile met de gemeten data (obv FEWS-WIS)\n",
    "    gdf_model     = os.path.join(root,\"GIS output\",\"WL_T1_RUPROF.shp\") # shapefile met de Sobek data\n",
    "    gdf_joined    = os.path.join(root,\"GIS output\",\"WL_T1_RUPROF_DATA.shp\") # shapefile met gemeten & gemodelleerd waterniveau\n",
    "    fig           = os.path.join(root,\"Output\",'2_fig_WL_T1.png') # figuur met de verschillen in waterniveau\n",
    "    fightml       = os.path.join(root,\"Output\",'2_fig_WL_T1.html') # figuur met de verschillen in waterniveau\n",
    "    \n",
    "months = [5,6,7,8,9] # maanden in het jaar om statistiek over te berekenen\n",
    "years  = np.arange(2000,2023)\n",
    "\n",
    "functies_punt_WL_T1.main(paths,months,years)"
   ]
  },
  {
   "cell_type": "markdown",
   "id": "4c9f5d64",
   "metadata": {},
   "source": [
    "### Debiet: RUPROF\n",
    "<br>\n",
    "<u>Variabele</u>:  <br>\n",
    "- Debiet voor T=1 in de zomer  <br>\n",
    "<u>Aanpak</u>:  <br>\n",
    "- Verschil tussen 1) data (FEWS-WIS), en 2) model (RUPROF) <br>\n",
    "<u>Randvoorwaarden</u>: <br>\n",
    "- Debiet data bij gemalen en debietmeters (overige kunstwerken zijn momenteel uitgesloten). <br>\n",
    "- Debieten bij gemalen zijn vooraf opgeteld (in een aparte script). <br>\n",
    "- Minimaal 3 jaar aan geobserveerde data beschikbaar (niet per se aaneengesloten) voor het berekenen van het T=1 debiet. <br>\n",
    "<u>Output</u>: <br>\n",
    "- Shapefile (polypoints): verschil tussen data en model <br>\n",
    "- Figuren: verschil per observatie punt en maximum verschil per afvoergebied\n",
    "\n"
   ]
  },
  {
   "cell_type": "code",
   "execution_count": null,
   "id": "deaa854b",
   "metadata": {},
   "outputs": [],
   "source": [
    "import os\n",
    "import numpy as np\n",
    "import functies_punt_Q_T1\n",
    "\n",
    "class paths():\n",
    "    # Input data\n",
    "    root          = os.getcwd()    \n",
    "    df_Q_model    = os.path.join(root, 'Input','Sobek output','SOBEK_Q_150724.csv') # gemodelleerd debiet op basis van Sobek (op t=0 uit RUPROF)\n",
    "    # verwijder in df_Q_model de exponent in de eenheid (door m3/s te typen in het csv bestand); de exponent zorgt namelijk voor een foutmelding bij het inlezen van het bestand\n",
    "    df_Q_WISdata  = os.path.join(root, 'Input','FEWS-WIS','Q_kunstwerken_2000_2023_werkfilter_edited.csv') # FEWS-WIS data bij kunstwerken\n",
    "    df_Q_WISsites = os.path.join(root, 'Input','FEWS-WIS','ow_sl_edited.csv') # FEWS-WIS metadata voor meetpunten\n",
    "    shp_peil      = os.path.join(root,\"GIS input\",\"BR-VS_Peilgebieden.shp\") # shapefile van de peilgebieden\n",
    "    shp_reach     = os.path.join(root,\"GIS input\",\"RchSegments.shp\") # shapefile van de reach segments (watergangen), export uit Sobek\n",
    "    shp_afvoer    = os.path.join(root,\"GIS input\",\"BR_VS_Afvoergebieden.shp\") # shapefile van de afvoergebieden\n",
    "    shp_insteek   = os.path.join(root,\"GIS input\",\"BR-VS_Insteekvlak.shp\") # shapefile van het insteekvlak\n",
    "    shp_regios    = os.path.join(root,\"GIS input\",\"HDSR_regios.shp\") # shapefile van HDSR regios\n",
    "    \n",
    "    # Output data\n",
    "    gdf_data      = os.path.join(root,\"GIS output\",\"Q_T1_DATA.shp\") # shapefile met de gemeten debiet data (obv FEWS-WIS)\n",
    "    gdf_model     = os.path.join(root,\"GIS output\",\"Q_T1_RUPROF.shp\") # shapefile met de Sobek data\n",
    "    gdf_joined    = os.path.join(root,\"GIS output\",\"Q_T1_RUPROF_DATA.shp\") # shapefile met gemeten & gemodelleerd debiet\n",
    "    fightml       = os.path.join(root,\"Output\",'2_fig_Q_T1.html') # figuur met de verschillen in debiet\n",
    "\n",
    "\n",
    "months = [5,6,7,8,9] # maanden in het jaar om statistiek over te berekenen\n",
    "years  = np.arange(2000,2023)\n",
    "functies_punt_Q_T1.main(paths, months, years)\n",
    "    "
   ]
  },
  {
   "cell_type": "markdown",
   "id": "9dd1cbc3",
   "metadata": {},
   "source": [
    "### Debiet: Sobek continue model (2010 - 2021)\n",
    "<br>\n",
    "<u>Variabele</u>:  <br>\n",
    "- Gemiddeld debiet in primaire watergang  <br>\n",
    "<u>Aanpak</u>:  <br>\n",
    "- Verschil tussen 1) data (FEWS-WIS), en 2) model (Sobek model) <br>\n",
    "<u>Randvoorwaarden</u>: <br>\n",
    "- Validatie over de periode 2010 - 2021 <br>\n",
    "- Minimaal 1 jaar aan geobserveerde data beschikbaar (niet per se aaneengesloten) <br>\n",
    "- Statistieken: verschil gemiddelde waarde  <br>\n",
    "<u>Output</u>: <br>\n",
    "- Shapefile (polypoints): verschil tussen data en model gemiddeld over een periode  <br>\n",
    "- Figuren: verschil per observatie punt en maximum verschil per afvoergebied"
   ]
  },
  {
   "cell_type": "code",
   "execution_count": null,
   "id": "ca2f21c9",
   "metadata": {},
   "outputs": [],
   "source": [
    "import os\n",
    "import numpy as np\n",
    "import functies_punt_Qseries\n",
    "\n",
    "class paths():\n",
    "    # Input data\n",
    "    root          = os.getcwd()    \n",
    "    data_sobek    = os.path.join(root,\"Input\",\"Sobek output\",\"MOD_ADJ_V4.lit\") # folder Sobek HIS bestanden\n",
    "    shp_reach     = os.path.join(root,\"GIS input\",\"RchSegments_Qstat.shp\") # shapefile van de reach segments (watergangen), export uit Sobek\n",
    "    shp_afvoer    = os.path.join(root,\"GIS input\",\"BR_VS_Afvoergebieden.shp\") # shapefile van de afvoergebieden\n",
    "    df_Q_WISdata  = os.path.join(root, 'Input','FEWS-WIS','Q_hourly_pomp_ADCP_2010_2023_werkfilter_edited.csv') # FEWS-WIS data bij kunstwerken\n",
    "    df_Q_WISsites = os.path.join(root, 'Input','FEWS-WIS','ow_sl_edited.csv') # FEWS-WIS metadata voor meetpunten\n",
    "    shp_insteek   = os.path.join(root,\"GIS input\",\"BR-VS_Insteekvlak.shp\") # shapefile van het insteekvlak\n",
    "    \n",
    "    # Output data\n",
    "    gdf_data      = os.path.join(root,\"GIS output\",\"Q_gem_DATA.shp\") # shapefile met gemeten debiet\n",
    "    gdf_model     = os.path.join(root,\"GIS output\",\"Q_gem_Sobek.shp\") # shapefile met gemodelleerd debiet\n",
    "    gdf_joined    = os.path.join(root,\"GIS output\",\"Q_gem_Sobek_DATA.shp\") # shapefile met gemeten & gemodelleerd debiet\n",
    "    fightml       = os.path.join(root,\"Output\",'2_fig_Q_gem.html') # figuur met de verschillen in debiet\n",
    "\n",
    "months        = np.arange(1,13) # maanden in het jaar om statistiek over te berekenen\n",
    "years         = np.arange(2010,2022) # jaren om statistiek over te berekenen\n",
    "functies_punt_Qseries.main(paths, months, years)"
   ]
  },
  {
   "cell_type": "markdown",
   "id": "f83959b6",
   "metadata": {},
   "source": [
    "### Stroomrichting: Sobek continue model (2010 - 2021)\n",
    "<br>\n",
    "<u>Variabele</u>:  <br>\n",
    "- Stroomrichting in primaire watergang  <br>\n",
    "<u>Aanpak</u>:  <br>\n",
    "- Verschil tussen 1) data (FEWS-WIS), en 2) model (Sobek model) <br>\n",
    "<u>Randvoorwaarden</u>: <br>\n",
    "- Validatie over de periode 2010 - 2021 <br>\n",
    "- Statistieken: (alleen visueel)  <br>\n",
    "<u>Output</u>: <br>\n",
    "- Figuren: tijdreeks op locaties waar de stroomrichting veranderd"
   ]
  },
  {
   "cell_type": "code",
   "execution_count": null,
   "id": "cff600f3",
   "metadata": {},
   "outputs": [],
   "source": [
    "import os\n",
    "import numpy as np\n",
    "import functies_punt_Qdir\n",
    "\n",
    "class paths():\n",
    "    # Input data\n",
    "    root          = os.getcwd()    \n",
    "    data_sobek    = os.path.join(root,\"Input\",\"Sobek output\",\"MOD_ADJ_V4.lit\") # folder Sobek HIS bestanden\n",
    "    shp_reach     = os.path.join(root,\"GIS input\",\"RchSegments_Qstat.shp\") # shapefile van de reach segments (watergangen), export uit Sobek\n",
    "    shp_afvoer    = os.path.join(root,\"GIS input\",\"BR_VS_Afvoergebieden.shp\") # shapefile van de afvoergebieden\n",
    "    df_Q_WISdata  = os.path.join(root, 'Input','FEWS-WIS','Q_hourly_pomp_ADCP_2010_2023_werkfilter_edited.csv') # FEWS-WIS data bij kunstwerken\n",
    "    df_Q_WISsites = os.path.join(root, 'Input','FEWS-WIS','ow_sl_edited.csv') # FEWS-WIS metadata voor meetpunten\n",
    "    shp_insteek   = os.path.join(root,\"GIS input\",\"BR-VS_Insteekvlak.shp\") # shapefile van het insteekvlak\n",
    "    \n",
    "    # Output data\n",
    "    fightml       = os.path.join(root,\"Output\",'2_fig_Q_dir.html') # figuur met de debieten op locaties waar de stroomrichting veranderd\n",
    "\n",
    "months        = np.arange(1,13) # maanden in het jaar om statistiek over te berekenen\n",
    "years         = np.arange(2010,2022) # jaren om statistiek over te berekenen\n",
    "functies_punt_Qdir.main(paths, months, years)"
   ]
  },
  {
   "cell_type": "code",
   "execution_count": null,
   "id": "2e087f8f-652a-4b9b-83e2-db182a12c066",
   "metadata": {},
   "outputs": [],
   "source": []
  }
 ],
 "metadata": {
  "kernelspec": {
   "display_name": "Python 3 (ipykernel)",
   "language": "python",
   "name": "python3"
  },
  "language_info": {
   "codemirror_mode": {
    "name": "ipython",
    "version": 3
   },
   "file_extension": ".py",
   "mimetype": "text/x-python",
   "name": "python",
   "nbconvert_exporter": "python",
   "pygments_lexer": "ipython3",
   "version": "3.8.18"
  }
 },
 "nbformat": 4,
 "nbformat_minor": 5
}
