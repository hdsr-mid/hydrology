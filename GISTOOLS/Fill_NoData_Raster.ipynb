{
 "cells": [
  {
   "cell_type": "code",
   "execution_count": 7,
   "metadata": {},
   "outputs": [],
   "source": [
    "import os\n",
    "\n",
    "# Directory option 1: Use project gdb\n",
    "# Directory option 2: use project directory\n",
    "# Directory option 3: Custom directory\n",
    "Dir = 2  # [1, 2 or 3] (Default is 1)\n",
    "\n",
    "ToFill = \"ANH3_HDSR\"                                   # Raster file with gaps to fill\n",
    "Outname = \"AHN3_HDSR_FILL25\"                                 # Name to save output in chosen directory option\n",
    "x = 25                                           # x Search radius\n",
    "y = 25                                            # y Search radius\n",
    "Statistics_type = \"MEAN\"                          # Statistics type: https://pro.arcgis.com/en/pro-app/latest/tool-reference/spatial-analyst/focal-statistics.htm\n",
    "\n",
    "if Dir == 1:\n",
    "    p = arcpy.mp.ArcGISProject(\"CURRENT\")\n",
    "    directory = p.defaultGeodatabase   \n",
    "elif Dir == 2:\n",
    "    directory = os.path.dirname( arcpy.mp.ArcGISProject(\"CURRENT\").filePath )\n",
    "elif Dir == 3:\n",
    "    directory = r\"H:\\DATA\\Service\\Wietse\\GIS\\DEM\"\n"
   ]
  },
  {
   "cell_type": "code",
   "execution_count": 8,
   "metadata": {},
   "outputs": [],
   "source": [
    "fillraster = arcpy.sa.Con(arcpy.sa.IsNull(ToFill),arcpy.sa.FocalStatistics(ToFill,\n",
    "                        arcpy.sa.NbrRectangle(x, y),Statistics_type), ToFill)\n",
    "\n",
    "fillraster.save(directory + \"/\" + Outname + \".tif\")"
   ]
  },
  {
   "cell_type": "code",
   "execution_count": null,
   "metadata": {},
   "outputs": [],
   "source": []
  }
 ],
 "metadata": {
  "kernelspec": {
   "display_name": "ArcGISPro",
   "language": "Python",
   "name": "python3"
  },
  "language_info": {
   "file_extension": ".py",
   "name": "python",
   "version": "3"
  }
 },
 "nbformat": 4,
 "nbformat_minor": 2
}
