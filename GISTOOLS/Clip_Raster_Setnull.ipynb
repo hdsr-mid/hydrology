{
 "cells": [
  {
   "cell_type": "markdown",
   "metadata": {},
   "source": [
    "Deze notebook is bedoelt om een rasterdataset op te knippen met een feature layer. Hierbij wordt ook een deel van de raster boven de waarde \"n\" omgezet naar \"NoData\". Maak van tevoren een map aan in je workspace genaamd DEM_CLIP"
   ]
  },
  {
   "cell_type": "code",
   "execution_count": 7,
   "metadata": {},
   "outputs": [],
   "source": [
    "import arcpy, os\n",
    "import numpy as np\n",
    "from osgeo import gdal\n",
    "arcpy.env.addOutputsToMap = False   # Prevents many small grid files to show on map\n",
    "arcpy.env.overwriteOutput = True\n",
    "\n",
    "# Directory option 1: Use project gdb\n",
    "# Directory option 2: use project directory\n",
    "# Directory option 3: Custom directory\n",
    "Dir = 2  # [1, 2 or 3] (Default is 1)\n",
    "\n",
    "if Dir == 1:\n",
    "    p = arcpy.mp.ArcGISProject(\"CURRENT\")\n",
    "    directory = p.defaultGeodatabase   \n",
    "elif Dir == 2:\n",
    "    directory = os.path.dirname( arcpy.mp.ArcGISProject(\"CURRENT\").filePath )\n",
    "elif Dir == 3:\n",
    "    directory = r\"H:\\DATA\\Service\\Wietse\\GIS\\DEM\"\n",
    "\n",
    "    \n",
    "#De Shapefile die je wilt gebruiken voor het opknippen van de raster (BR_Peilgebieden, BR_Afvoergebieden, ect.)\n",
    "clipShapefile  = \"BR_Peilgebieden_Filter_West_HDSR\"\n",
    "\n",
    "#De raster die je wilt gebruiken als input (AHN3, AHN4, ect.)\n",
    "#Hou rekening met het Talut van de watergangen en neem indien nodig stappen om deze uit de DEM te filteren\n",
    "rasterlist = [\"AHN3_HDSR_FILL_ISV_NO.TIF\"]\n"
   ]
  },
  {
   "cell_type": "code",
   "execution_count": 8,
   "metadata": {},
   "outputs": [],
   "source": [
    "Percentile_value_min = 10            # Het Percentiel [0-100] waaronder je alle data wilt omzetten naar nodata [Default = 0]\n",
    "Percentile_value     = 20              # Het Percentiel [0-100] waarboven je alle data wilt omzetten naar nodata [Default = 10]\n",
    "Raster_Clip          = \"BR_West_04042023_5\"   # De folder waar de geclipte raster worden opgeslagen\n",
    "Raster_Con_Clip      = \"STAT_10_20\"       # De folder waar de geclipte rasters met NoData filter worden opgeslagen\n",
    "\n",
    "arcpy.management.CreateFolder(directory, Raster_Clip)\n",
    "outputWorkspace = directory \n",
    "arcpy.env.workspace = outputWorkspace\n",
    "outputWorkspace_clip = os.path.join(outputWorkspace, Raster_Clip)"
   ]
  },
  {
   "cell_type": "code",
   "execution_count": 9,
   "metadata": {},
   "outputs": [],
   "source": [
    "clipShapes = set()\n",
    "with arcpy.da.SearchCursor(clipShapefile, ['OID@']) as cursor:\n",
    "    for row in cursor:\n",
    "        clipShapes.add(row[0])\n",
    "\n",
    "for raster in rasterlist:\n",
    "    rastername, rasterext = os.path.splitext(raster)\n",
    "    for i in clipShapes:\n",
    "        newRaster = \"{}_clip_{}.tif\".format(rastername, i)\n",
    "        newRasterPath = os.path.join(outputWorkspace_clip, newRaster)\n",
    "        if arcpy.Exists('clipLayer'): # Remove existing 'clipLayer' feature layer if it still exists for some reason\n",
    "            arcpy.Delete_management('clipLayer')\n",
    "        arcpy.MakeFeatureLayer_management(clipShapefile, 'clipLayer', ' \"FID\" = {}'.format(i)) #create a layer with only polygon i\n",
    "        arcpy.Clip_management(raster, \"#\", newRasterPath, 'clipLayer', \"99\", \"ClippingGeometry\") #clip based on layer, clipping geometry will use the polygon extent only\n",
    "        arcpy.Delete_management('clipLayer')\n"
   ]
  },
  {
   "cell_type": "code",
   "execution_count": 10,
   "metadata": {},
   "outputs": [],
   "source": [
    "#Deze Functie berekend het percentiel\n",
    "def Percentile(rasterlayername,n,folder,dt = \"f4\"):  \n",
    "    newRasterPath = os.path.join(folder, rasterlayername)\n",
    "    ds = gdal.Open(newRasterPath)\n",
    "    band = ds.GetRasterBand(1)\n",
    "    arr = np.array(band.ReadAsArray(), dtype= dt)\n",
    "    arr[arr==99] = np.nan\n",
    "    Perc = np.nanpercentile(arr,n)\n",
    "    \n",
    "    return Perc\n",
    "\n",
    "\n",
    "arcpy.env.workspace = outputWorkspace_clip\n",
    "arcpy.management.CreateFolder(outputWorkspace_clip, Raster_Con_Clip)\n",
    "outputWorkspace_con = os.path.join(outputWorkspace_clip,Raster_Con_Clip) \n",
    "\n",
    "rasterlist = arcpy.ListRasters('*.tif*') # Get a list of input rasters\n",
    "\n",
    "for raster in rasterlist:\n",
    "    try:\n",
    "        Raster_tmp = arcpy.sa.Raster(raster)\n",
    "        Perc = Percentile(raster,Percentile_value,outputWorkspace_clip)\n",
    "        Perc_min = Percentile(raster,Percentile_value_min,outputWorkspace_clip)\n",
    "        raster_con = arcpy.sa.SetNull(Raster_tmp, Raster_tmp, \"VALUE < {} OR VALUE > {}\".format(Perc_min, Perc))\n",
    "        #raster_con = arcpy.sa.SetNull(Raster_tmp > Perc, Raster_tmp)\n",
    "        #raster_con = arcpy.sa.SetNull(Raster_tmp < Perc_min, Raster_tmp)\n",
    "        raster_con.save(outputWorkspace_con + '\\_con' + raster)\n",
    "        del raster_con\n",
    "    except MemoryError:\n",
    "        print(raster + \" is too big\")\n",
    "        continue\n",
    "    except:\n",
    "        print(raster + \" something else went wrong\")\n",
    "        continue\n",
    "        \n",
    "    "
   ]
  },
  {
   "cell_type": "markdown",
   "metadata": {},
   "source": [
    "###### "
   ]
  },
  {
   "cell_type": "code",
   "execution_count": null,
   "metadata": {},
   "outputs": [],
   "source": []
  },
  {
   "cell_type": "code",
   "execution_count": null,
   "metadata": {},
   "outputs": [],
   "source": []
  }
 ],
 "metadata": {
  "kernelspec": {
   "display_name": "ArcGISPro",
   "language": "Python",
   "name": "python3"
  },
  "language_info": {
   "file_extension": ".py",
   "name": "python",
   "version": "3"
  }
 },
 "nbformat": 4,
 "nbformat_minor": 2
}
