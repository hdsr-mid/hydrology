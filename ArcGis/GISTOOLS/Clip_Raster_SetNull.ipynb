{
 "cells": [
  {
   "cell_type": "code",
   "execution_count": 1,
   "metadata": {},
   "outputs": [
    {
     "name": "stdout",
     "output_type": "stream",
     "text": [
      "Collecting tqdm\n",
      "  Downloading tqdm-4.65.0-py3-none-any.whl (77 kB)\n",
      "Requirement already satisfied: colorama in c:\\program files\\arcgis\\pro\\bin\\python\\envs\\arcgispro-py3\\lib\\site-packages (from tqdm) (0.4.4)\n",
      "Installing collected packages: tqdm\n",
      "Successfully installed tqdm-4.65.0\n"
     ]
    }
   ],
   "source": [
    "!pip install tqdm"
   ]
  },
  {
   "cell_type": "markdown",
   "metadata": {},
   "source": [
    "Deze notebook is bedoelt om een rasterdataset op te knippen met een feature layer. Hierbij wordt ook een deel van de raster boven de waarde \"n\" omgezet naar \"NoData\". Maak van tevoren een map aan in je workspace genaamd DEM_CLIP"
   ]
  },
  {
   "cell_type": "code",
   "execution_count": 11,
   "metadata": {},
   "outputs": [],
   "source": [
    "import arcpy, os\n",
    "import numpy as np\n",
    "from tqdm import tqdm\n",
    "from osgeo import gdal\n",
    "arcpy.env.addOutputsToMap = False   # Prevents many small grid files to show on map\n",
    "arcpy.env.overwriteOutput = True\n",
    "\n",
    "\n",
    "# Directory option 1: Use project gdb\n",
    "# Directory option 2: use project directory\n",
    "# Directory option 3: Custom directory\n",
    "Dir = 2  # [1, 2 or 3] (Default is 1)\n",
    "\n",
    "if Dir == 1:\n",
    "    p = arcpy.mp.ArcGISProject(\"CURRENT\")\n",
    "    directory = p.defaultGeodatabase   \n",
    "elif Dir == 2:\n",
    "    directory = os.path.dirname( arcpy.mp.ArcGISProject(\"CURRENT\").filePath )\n",
    "elif Dir == 3:\n",
    "    directory = r\"H:\\DATA\\Service\\Wietse\\GIS\\DEM\"\n",
    "\n",
    "    \n",
    "#De Shapefile die je wilt gebruiken voor het opknippen van de raster (BR_Peilgebieden, BR_Afvoergebieden, ect.)\n",
    "clipShapefile  = \"West_test\"\n",
    "\n",
    "#De raster die je wilt gebruiken als input (AHN3, AHN4, ect.)\n",
    "#Hou rekening met het Talut van de watergangen en neem indien nodig stappen om deze uit de DEM te filteren\n",
    "rasterlist = [\"AHN3_HDSR_FILL_ISV_NO.TIF\"]\n",
    "raster_input = \"AHN3_HDSR_FILL_ISV_NO.TIF\""
   ]
  },
  {
   "cell_type": "code",
   "execution_count": 12,
   "metadata": {},
   "outputs": [],
   "source": [
    "Percentile_value_min = 15            # Het Percentiel [0-100] waaronder je alle data wilt omzetten naar nodata [Default = 0]\n",
    "Percentile_value_max = 20              # Het Percentiel [0-100] waarboven je alle data wilt omzetten naar nodata [Default = 10]\n",
    "Raster_Clip          = \"Test26042023_1\"   # De folder waar de geclipte raster worden opgeslagen\n",
    "\n",
    "arcpy.management.CreateFolder(directory, Raster_Clip)\n",
    "outputWorkspace = directory \n",
    "arcpy.env.workspace = outputWorkspace\n",
    "outputWorkspace_clip = os.path.join(outputWorkspace, Raster_Clip)\n",
    " "
   ]
  },
  {
   "cell_type": "markdown",
   "metadata": {},
   "source": [
    "Het onderstaande codeblok bevat de functies die later worden aangeroepen in het script, het gaat hierbij om twee functies:\n",
    "\n",
    "- clip_and_set_null\n",
    "\n",
    "Deze functie clipt de rasterkaart op naar de shapefile die is aangegeven met de variabele \"clipShapefile\", deze worden opgeslagen in de map met naam \"Raster_Clip\" (in te vullen bij variabele hierboven). Daarna gebruikt de functie de waarden van \"Percentile_value_min\" en \"Percentile_value_max\" om een percentiel bereik van de data om te zetten in NoData, de resulterende kaarten worden opgeslagen in de map met aanduiding \"STAT_...\".\n",
    "\n",
    "\n",
    "\n",
    "- set_null\n",
    "\n",
    "Deze functie gaat verder waar de volgende functie stopt. Als de rasterkaart eenmaal is opgeknipt is het niet nodig dit nog een keer te doen voor een nieuw percentiel bereik. De resulterende kaarten worden opgeslagen in de map met aanduiding \"STAT_...\".\n",
    "\n",
    "Het is niet de bedoeling om deze functies aan te passen! "
   ]
  },
  {
   "cell_type": "code",
   "execution_count": 22,
   "metadata": {},
   "outputs": [],
   "source": [
    "# NIET AANKOMEN\n",
    "def clip_and_set_null(input_raster, feature_shapefile, output_folder, n1, n2):\n",
    "    \n",
    "    if n1 >= n2:\n",
    "        raise ValueError('\"Percentile_value_min\" cannot be higher or equal to \"Percentile_value_max\"')\n",
    "        \n",
    "    arcpy.management.CreateFolder(output_folder, \"STAT_{}_{}\".format(n1, n2))\n",
    "    output_folder_null = os.path.join(output_folder, \"STAT_{}_{}\".format(n1, n2))\n",
    "    \n",
    "    # Create a search cursor to iterate through the features in the shapefile\n",
    "    with arcpy.da.SearchCursor(feature_shapefile, ['OID@', 'CODE']) as cursor:\n",
    "        for row in tqdm(cursor):\n",
    "            # Get the OID and name values for the current feature\n",
    "            feature_oid = row[0]\n",
    "            feature_name = row[1]\n",
    "            \n",
    "            # Create a feature layer with only the current feature\n",
    "            arcpy.MakeFeatureLayer_management(feature_shapefile, 'clip_layer', ' \"FID\" = {}'.format(feature_oid))\n",
    "\n",
    "            # Set the output path for the clipped raster based on the feature name\n",
    "            output_raster = os.path.join(output_folder, '{}.tif'.format(feature_name))\n",
    "\n",
    "            # Clip the input raster with the feature layer\n",
    "            arcpy.Clip_management(input_raster, '#', output_raster, 'clip_layer', '99', 'ClippingGeometry')\n",
    "            \n",
    "            # Calculate the percentile values for n1 and n2\n",
    "            try:\n",
    "                ds = gdal.Open(output_raster)\n",
    "                band = ds.GetRasterBand(1)\n",
    "                arr = np.array(band.ReadAsArray(), dtype=\"f4\")\n",
    "                arr[arr==99] = np.nan\n",
    "                ds = None\n",
    "            except MemoryError:\n",
    "                print(raster + \" is too big\")\n",
    "                continue\n",
    "            except:\n",
    "                print(raster + \" something else went wrong\")\n",
    "                continue\n",
    "            \n",
    "            perc_n1 = float(numpy.nanpercentile(arr, n1))\n",
    "            perc_n2 = float(numpy.nanpercentile(arr, n2))\n",
    "            \n",
    "            # Set the values outside the percentile range to null\n",
    "            null_raster = arcpy.sa.SetNull(output_raster, output_raster, 'VALUE < {} OR VALUE > {}'.format(perc_n1, perc_n2))\n",
    "\n",
    "            # Save the null raster to a new file\n",
    "            null_raster.save(os.path.join(output_folder_null, '{}_null.tif'.format(feature_name)))\n",
    "\n",
    "\n",
    "            # Delete the clip layer and intermediate data\n",
    "            arcpy.Delete_management('clip_layer')\n",
    "            arcpy.ClearWorkspaceCache_management() \n",
    "            \n",
    "    # Set the workspace environment\n",
    "    arcpy.env.workspace = output_folder_null\n",
    "\n",
    "    # Create a list of all the raster files in the workspace\n",
    "    raster_list_null = arcpy.ListRasters(\"*\", \"TIF\")\n",
    "\n",
    "    # Set the output mosaic raster name \n",
    "    output_raster = \"_mosaic_{}_{}.tif\".format(n1, n2)\n",
    "\n",
    "    # Use the MosaicToNewRaster_management function to mosaic the input rasters\n",
    "    arcpy.MosaicToNewRaster_management(raster_list_null, output_folder_null, output_raster, pixel_type=\"32_BIT_FLOAT\", mosaic_method=\"LAST\", cellsize=\"0,5\", number_of_bands=\"1\", mosaic_colormap_mode=\"FIRST\")\n",
    "\n",
    "\n",
    "    return  perc_n1, perc_n2\n",
    "\n",
    "def set_null(input_raster_folder, n1, n2):\n",
    "    \n",
    "    if n1 >= n2:\n",
    "        raise ValueError('\"Percentile_value_min\" cannot be higher or equal to \"Percentile_value_max\"')\n",
    "    \n",
    "    arcpy.env.workspace = input_raster_folder\n",
    "    rasterlist = arcpy.ListRasters('*.tif*') # Get a list of input rasters\n",
    "    outputWorkspace = os.path.join(input_raster_folder, \"STAT_{}_{}\".format(n1, n2))\n",
    "    arcpy.management.CreateFolder(input_raster_folder, \"STAT_{}_{}\".format(n1, n2))\n",
    "    \n",
    "    for raster in tqdm(rasterlist):\n",
    "        # Calculate the percentile values for n1 and n2\n",
    "        \n",
    "        try:\n",
    "            Raster_tmp = arcpy.sa.Raster(raster)\n",
    "            ds = gdal.Open(Raster_tmp.catalogPath)\n",
    "            band = ds.GetRasterBand(1)\n",
    "            arr = np.array(band.ReadAsArray(), dtype=\"f4\")\n",
    "            arr[arr==99] = np.nan\n",
    "            perc_n1 = float(numpy.nanpercentile(arr, n1))\n",
    "            perc_n2 = float(numpy.nanpercentile(arr, n2))\n",
    "        except MemoryError:\n",
    "            print(raster + \" is too big\")\n",
    "            continue\n",
    "        except:\n",
    "            print(raster + \" something else went wrong\")\n",
    "            continue\n",
    "\n",
    "        # Set the values outside the percentile range to null\n",
    "        null_raster = arcpy.sa.SetNull(raster, raster, 'VALUE < {} OR VALUE > {}'.format(perc_n1, perc_n2))\n",
    "\n",
    "        # Save the null raster to a new file\n",
    "        raster_string = raster.replace(\".tif\", \"\")\n",
    "        null_raster.save(os.path.join(outputWorkspace, '{}_null.tif'.format(raster_string)))\n",
    "        arcpy.ClearWorkspaceCache_management()\n",
    "        \n",
    "    # Set the workspace environment\n",
    "    arcpy.env.workspace = outputWorkspace\n",
    "\n",
    "    # Create a list of all the raster files in the workspace\n",
    "    raster_list_null = arcpy.ListRasters(\"*\", \"TIF\")\n",
    "\n",
    "    # Set the output mosaic raster name \n",
    "    output_raster = \"_mosaic_{}_{}.tif\".format(n1, n2)\n",
    "\n",
    "    # Use the MosaicToNewRaster_management function to mosaic the input rasters\n",
    "    arcpy.MosaicToNewRaster_management(raster_list_null, outputWorkspace, output_raster, pixel_type=\"32_BIT_FLOAT\", mosaic_method=\"LAST\", cellsize=\"0,5\", number_of_bands=\"1\", mosaic_colormap_mode=\"FIRST\")"
   ]
  },
  {
   "cell_type": "code",
   "execution_count": 16,
   "metadata": {},
   "outputs": [
    {
     "name": "stderr",
     "output_type": "stream",
     "text": [
      "12it [16:55, 84.61s/it]\n"
     ]
    },
    {
     "data": {
      "text/plain": [
       "(-2.0209999084472656, -1.9989999532699585)"
      ]
     },
     "execution_count": 16,
     "metadata": {},
     "output_type": "execute_result"
    }
   ],
   "source": [
    "clip_and_set_null(raster_input, clipShapefile, outputWorkspace_clip, Percentile_value_min, Percentile_value_max)"
   ]
  },
  {
   "cell_type": "markdown",
   "metadata": {},
   "source": [
    "In het onderstaande code blok kan je ook de kaarten maken voor een ander percentiel bereik. Pas de waarden aan en run de cel, in de huidige map zal, naast de al bestaande folder van de vorrige cel, nog een folder worden aangemaakt waar de nieuwe kaarten in komen te staan. "
   ]
  },
  {
   "cell_type": "code",
   "execution_count": 23,
   "metadata": {},
   "outputs": [
    {
     "name": "stderr",
     "output_type": "stream",
     "text": [
      "100%|##########| 12/12 [11:26<00:00, 57.17s/it]\n"
     ]
    }
   ],
   "source": [
    "Percentile_value_min = 20               # Het Percentiel [0-100] waaronder je alle data wilt omzetten naar nodata [Default = 0]\n",
    "Percentile_value_max = 30            # Het Percentiel [0-100] waarboven je alle data wilt omzetten naar nodata [Default = 10]\n",
    "\n",
    "set_null(outputWorkspace_clip, Percentile_value_min, Percentile_value_max)"
   ]
  },
  {
   "cell_type": "code",
   "execution_count": null,
   "metadata": {},
   "outputs": [],
   "source": []
  }
 ],
 "metadata": {
  "kernelspec": {
   "display_name": "ArcGISPro",
   "language": "Python",
   "name": "python3"
  },
  "language_info": {
   "file_extension": ".py",
   "name": "python",
   "version": "3"
  }
 },
 "nbformat": 4,
 "nbformat_minor": 2
}
